{
 "cells": [
  {
   "cell_type": "code",
   "execution_count": 5,
   "id": "ef56adce-2fa1-40a5-9113-1fcab400c242",
   "metadata": {},
   "outputs": [],
   "source": [
    "#file handling"
   ]
  },
  {
   "cell_type": "code",
   "execution_count": null,
   "id": "2948f4d6-0a60-4b9a-a41d-728d7f9f48e5",
   "metadata": {},
   "outputs": [],
   "source": [
    "PLACEHOLDER=\"[name]\"\n",
    "with open(\"invited_names.txt\",'r') as names_list:\n",
    "    names=names_list.readlines()\n",
    "with open(\"starting_letter.docx\") as letter_file:\n",
    "    letter_contents=letter_file.read()\n",
    "    for name in names:\n",
    "        stripped_name=name.strip()\n",
    "        new_letter=letter_contents.replace(PLACEHOLDER,stripped_name)\n",
    "        with open(f\"letter_for_{stripped_name}.docx\",'wt') as completed_letter:\n",
    "            completed_letter.write(new_letter)"
   ]
  },
  {
   "cell_type": "code",
   "execution_count": null,
   "id": "dc51ff1d-42d0-4ae6-a0ea-3285fb5c06ef",
   "metadata": {},
   "outputs": [],
   "source": []
  },
  {
   "cell_type": "code",
   "execution_count": null,
   "id": "8137c27e-e02c-4696-a975-db94e6082534",
   "metadata": {},
   "outputs": [],
   "source": []
  },
  {
   "cell_type": "code",
   "execution_count": 3,
   "id": "575bc91d-eeaa-485c-9bbc-22851bf54f16",
   "metadata": {},
   "outputs": [
    {
     "name": "stdin",
     "output_type": "stream",
     "text": [
      "enter weight in kg 50\n",
      "enter height in m 1.5\n"
     ]
    },
    {
     "name": "stdout",
     "output_type": "stream",
     "text": [
      "normal weight\n"
     ]
    }
   ],
   "source": [
    "'''\n",
    "BMI calculator 2.0\n",
    "Write a program that interprets the Body Mass Index (BMI) based on a user's weight and height.\n",
    "\n",
    "It should tell them the interpretation of their BMI based on the BMI value.\n",
    "\n",
    "Under 18.5 they are underweight\n",
    "Over 18.5 but below 25 they have a normal weight\n",
    "Over 25 but below 30 they are slightly overweight\n",
    "Over 30 but below 35 they are obese\n",
    "Above 35 they are clinically obese.'''\n",
    "\n",
    "\n",
    "wt=float(input(\"enter weight in kg\"))\n",
    "ht=float(input(\"enter height in m\"))\n",
    "bmi=wt/(ht*ht)\n",
    "if(bmi<18.5):\n",
    "    print(\"underweight\")\n",
    "elif(bmi>18.5 and bmi<25):\n",
    "    print(\"normal weight\")\n",
    "elif(bmi>25 and bmi<30):\n",
    "    print(\"slightly overweight\")\n",
    "elif(bmi>30 and bmi<35):\n",
    "    print(\"obase\")\n",
    "elif(bmi>35):\n",
    "    print(\"clinically obase\")\n"
   ]
  },
  {
   "cell_type": "code",
   "execution_count": null,
   "id": "563b7135-1c50-442b-a328-c001ca8bd88b",
   "metadata": {},
   "outputs": [],
   "source": []
  },
  {
   "cell_type": "code",
   "execution_count": null,
   "id": "43ad8a03-6460-4dee-a8a4-379eadf31ca3",
   "metadata": {},
   "outputs": [],
   "source": []
  },
  {
   "cell_type": "code",
   "execution_count": 33,
   "id": "2a25f507-3d14-4026-90aa-ae575edc56b7",
   "metadata": {},
   "outputs": [
    {
     "name": "stdin",
     "output_type": "stream",
     "text": [
      "enter year 2016\n"
     ]
    },
    {
     "name": "stdout",
     "output_type": "stream",
     "text": [
      "Leap\n"
     ]
    }
   ],
   "source": [
    "'''\n",
    "leap year\n",
    "Leap year or not\n",
    "Write a program that works out whether if a given year is a leap year.\n",
    "'''\n",
    "\n",
    "    \n",
    "year=int(input(\"enter year\"))\n",
    "if(year%4==0 and (year%100!=0 or year%400==0)):\n",
    "    print(\"Leap\")\n",
    "else:\n",
    "    print(\"not leap\")\n",
    "    "
   ]
  },
  {
   "cell_type": "code",
   "execution_count": null,
   "id": "50241ac6-fd69-4848-b055-c3888c06f1ea",
   "metadata": {},
   "outputs": [],
   "source": []
  },
  {
   "cell_type": "code",
   "execution_count": 39,
   "id": "26901650-abc8-4abe-9596-c3129e88c7c9",
   "metadata": {},
   "outputs": [
    {
     "name": "stdin",
     "output_type": "stream",
     "text": [
      "Enter your height in centimeters:  156\n",
      "Enter your age:  9\n"
     ]
    },
    {
     "name": "stdout",
     "output_type": "stream",
     "text": [
      "You are too young to ride. Please come back when you are 12 or older.\n"
     ]
    }
   ],
   "source": [
    "#ROLLERCOASTER PROGRAM:\n",
    "\n",
    "try:\n",
    "    height_cm = float(input(\"Enter your height in centimeters: \"))\n",
    "    age = int(input(\"Enter your age: \"))\n",
    "\n",
    "    if height_cm <= 0 or age <= 0:\n",
    "        raise ValueError(\"Height and age must be positive values.\")\n",
    "\n",
    "    if height_cm < 120:\n",
    "        print(\"Can't ride\")\n",
    "    elif age < 12:\n",
    "        print(\"young to ride\")\n",
    "    elif age >= 56:\n",
    "        print(\"You are eligible for a senior discount. Enjoy the ride!\")\n",
    "    elif 45 <= age <= 55: \n",
    "        print(\"Enjoy the ride!\")\n",
    "    else:\n",
    "        print(\"Can ride\")\n",
    "\n",
    "except ValueError as e:\n",
    "    print(f\"Invalid input: {e}\")\n",
    "except Exception as e:\n",
    "    print(f\"An error occurred: {e}\")"
   ]
  },
  {
   "cell_type": "code",
   "execution_count": null,
   "id": "e2a7678a-f0b9-49a1-966c-f6a5439adf38",
   "metadata": {},
   "outputs": [],
   "source": []
  },
  {
   "cell_type": "code",
   "execution_count": null,
   "id": "7036c9f6-4495-48ca-b5f1-19b6c6d2c7b3",
   "metadata": {},
   "outputs": [],
   "source": []
  },
  {
   "cell_type": "code",
   "execution_count": 53,
   "id": "31a75864-82eb-43a4-84d7-8b6c81a501ee",
   "metadata": {},
   "outputs": [
    {
     "name": "stdin",
     "output_type": "stream",
     "text": [
      "What size pizza do you want? S, M, or L:  w\n",
      "Do you want pepperoni? Y or N:  N\n",
      "Do you want extra cheese? Y or N:  y\n"
     ]
    },
    {
     "name": "stdout",
     "output_type": "stream",
     "text": [
      "Your final bill is: $18.\n"
     ]
    }
   ],
   "source": [
    "'''\n",
    "Pizza Order Program\n",
    "Instructions:\n",
    "\n",
    "Congratulations, you've got a job at Python Pizza. Your first job is to build an automatic pizza order program.   \n",
    "Based on a user's order, work out their final bill.\n",
    "Small Pizza: $15\n",
    "Medium Pizza: $20\n",
    "Large Pizza: $25\n",
    "Pepperoni for Small Pizza: +$2\n",
    "Pepperoni for Medium or Large Pizza: +$3\n",
    "'''\n",
    "\n",
    "size = input(\"What size pizza do you want? S, M, or L: \")\n",
    "add_pepperoni = input(\"Do you want pepperoni? Y or N: \")\n",
    "extra_cheese = input(\"Do you want extra cheese? Y or N: \")\n",
    "bill = 0\n",
    "if size == \"S\"  or \"s\":\n",
    "  bill += 15\n",
    "elif size == \"M\" or \"m\":\n",
    "  bill += 20\n",
    "elif size==\"L\" or \"l\":\n",
    "  bill += 25\n",
    "else:\n",
    "    print(\"invalid input\")\n",
    "    \n",
    "if add_pepperoni == \"Y\" or \"y\":\n",
    "  if size == \"S\" or \"s\":\n",
    "    bill += 2\n",
    "  else:\n",
    "    bill += 3\n",
    "else:\n",
    "    print(\"invalid input\")\n",
    "    \n",
    "if extra_cheese == \"Y\" or \"y\":\n",
    "  bill += 1\n",
    "else:\n",
    "    print(\"invalid input\")\n",
    "    \n",
    "print(f\"Your final bill is: ${bill}.\")"
   ]
  },
  {
   "cell_type": "code",
   "execution_count": null,
   "id": "2a37cb2a-1feb-4e46-9062-8cf0820a2e9f",
   "metadata": {},
   "outputs": [],
   "source": []
  },
  {
   "cell_type": "code",
   "execution_count": null,
   "id": "8156a346-8cfe-4884-8a95-9ec602bf5c79",
   "metadata": {},
   "outputs": [],
   "source": []
  },
  {
   "cell_type": "code",
   "execution_count": 59,
   "id": "78d07e07-9d49-4d66-a77f-0a739d3b1e91",
   "metadata": {},
   "outputs": [
    {
     "name": "stdout",
     "output_type": "stream",
     "text": [
      "welcome to treasure island. choose left or right to find treasure\n"
     ]
    },
    {
     "name": "stdin",
     "output_type": "stream",
     "text": [
      "enter left or right left\n"
     ]
    },
    {
     "name": "stdout",
     "output_type": "stream",
     "text": [
      "swim or wait?\n"
     ]
    },
    {
     "name": "stdin",
     "output_type": "stream",
     "text": [
      "swim or wait wait\n"
     ]
    },
    {
     "name": "stdout",
     "output_type": "stream",
     "text": [
      "which door\n"
     ]
    },
    {
     "name": "stdin",
     "output_type": "stream",
     "text": [
      "red or blue or yellow? yellow\n"
     ]
    },
    {
     "name": "stdout",
     "output_type": "stream",
     "text": [
      "you win!!!\n"
     ]
    }
   ],
   "source": [
    "'''\n",
    "#TREASURE  MAP\n",
    "\n",
    "Instructions\n",
    "Make your own \"Choose Your Own Adventure\" game. Use conditionals such as if, else, and elif statements to lay out the logic and the story's path in \n",
    "your program.   \n",
    "Text Snippets from my example\n",
    "\n",
    "\"You're at a crossroad. Where do you want to go? Type \"left\" or \"right\"\"\n",
    "\n",
    "\"You've come to a lake. There is an island in the middle of the lake. Type \"wait\" to wait for a boat. Type \"swim\" to swim across.\"   \n",
    "\n",
    "\"You arrive at the island unharmed. There is a house with 3 doors. One red, one yellow and one blue. Which colour do you choose?\"\n",
    "\n",
    "\"It's a room full of fire, Game Over.\"\n",
    "\n",
    "\"You found the treasure! You Win!\"\n",
    "\n",
    "\"You enter a room of beasts, Game Over.\"\n",
    "\n",
    "\"You chose a door that doesn't exist. Game Over.\"\n",
    "\n",
    "\"You get attacked by an angry trout, Game Over.\"\n",
    "\n",
    "\"You fell into a hole. Game Over.\"  \n",
    "'''\n",
    "\n",
    "\n",
    "print('welcome to treasure island. choose left or right to find treasure')\n",
    "d1=input('enter left or right')\n",
    "if (d1=='right'):\n",
    "    print(\"game over\")\n",
    "else:\n",
    "    print(\"swim or wait?\")\n",
    "    d2=input(\"swim or wait\")\n",
    "    \n",
    "    if (d2=='swim'):\n",
    "        print(\"attacked by throut. Game over\")\n",
    "    elif (d2=='wait'):\n",
    "        print(\"which door\")\n",
    "        d3=input(\"red or blue or yellow?\")\n",
    "        if(d3=='red'):\n",
    "            print(\"burned by fire! game over\")\n",
    "        elif(d3=='blue'):\n",
    "            print(\"eaten by beast! game over\")\n",
    "        elif(d3==\"yellow\"):\n",
    "            print(\"you win!!!\")\n",
    "        else:\n",
    "            print(\"game over\")\n",
    "            \n"
   ]
  },
  {
   "cell_type": "code",
   "execution_count": null,
   "id": "2e297294-4e72-421d-8066-3db3fd89712f",
   "metadata": {},
   "outputs": [],
   "source": []
  },
  {
   "cell_type": "code",
   "execution_count": 69,
   "id": "1d0fbf6c-d8a8-4f1d-b59f-655ed58d482c",
   "metadata": {},
   "outputs": [
    {
     "name": "stdout",
     "output_type": "stream",
     "text": [
      "\n",
      "*******************************************************************************\n",
      "          |                   |                  |                     |\n",
      " _________|________________.=\"\"_;=.______________|_____________________|_______\n",
      "|                   |  ,-\"_,=\"\"     `\"=.|                  |\n",
      "|___________________|__\"=._o`\"-._        `\"=.______________|___________________\n",
      "          |                `\"=._o`\"=._      _`\"=._                     |\n",
      " _________|_____________________:=._o \"=._.\"_.-=\"'\"=.__________________|_______\n",
      "|                   |    __.--\" , ; `\"=._o.\" ,-\"\"\"-._ \".   |\n",
      "|___________________|_._\"  ,. .` ` `` ,  `\"-._\"-._   \". '__|___________________\n",
      "          |           |o`\"=._` , \"` `; .\". ,  \"-._\"-._; ;              |\n",
      " _________|___________| ;`-.o`\"=._; .\" ` '`.\"\\` . \"-._ /_______________|_______\n",
      "|                   | |o;    `\"-.o`\"=._``  '` \" ,__.--o;   |\n",
      "|___________________|_| ;     (#) `-.o `\"=.`_.--\"_o.-; ;___|___________________\n",
      "____/______/______/___|o;._    \"      `\".o|o_.--\"    ;o;____/______/______/____\n",
      "/______/______/______/_\"=._o--._        ; | ;        ; ;/______/______/______/_\n",
      "____/______/______/______/__\"=._o--._   ;o|o;     _._;o;____/______/______/____\n",
      "/______/______/______/______/____\"=._o._; | ;_.--\"o.--\"_/______/______/______/_\n",
      "____/______/______/______/______/_____\"=.o|o_.--\"\"___/______/______/______/____\n",
      "/______/______/______/______/______/______/______/______/______/______/_____ /\n",
      "*******************************************************************************\n",
      "\n"
     ]
    }
   ],
   "source": [
    "print(r'''\n",
    "*******************************************************************************\n",
    "          |                   |                  |                     |\n",
    " _________|________________.=\"\"_;=.______________|_____________________|_______\n",
    "|                   |  ,-\"_,=\"\"     `\"=.|                  |\n",
    "|___________________|__\"=._o`\"-._        `\"=.______________|___________________\n",
    "          |                `\"=._o`\"=._      _`\"=._                     |\n",
    " _________|_____________________:=._o \"=._.\"_.-=\"'\"=.__________________|_______\n",
    "|                   |    __.--\" , ; `\"=._o.\" ,-\"\"\"-._ \".   |\n",
    "|___________________|_._\"  ,. .` ` `` ,  `\"-._\"-._   \". '__|___________________\n",
    "          |           |o`\"=._` , \"` `; .\". ,  \"-._\"-._; ;              |\n",
    " _________|___________| ;`-.o`\"=._; .\" ` '`.\"\\` . \"-._ /_______________|_______\n",
    "|                   | |o;    `\"-.o`\"=._``  '` \" ,__.--o;   |\n",
    "|___________________|_| ;     (#) `-.o `\"=.`_.--\"_o.-; ;___|___________________\n",
    "____/______/______/___|o;._    \"      `\".o|o_.--\"    ;o;____/______/______/____\n",
    "/______/______/______/_\"=._o--._        ; | ;        ; ;/______/______/______/_\n",
    "____/______/______/______/__\"=._o--._   ;o|o;     _._;o;____/______/______/____\n",
    "/______/______/______/______/____\"=._o._; | ;_.--\"o.--\"_/______/______/______/_\n",
    "____/______/______/______/______/_____\"=.o|o_.--\"\"___/______/______/______/____\n",
    "/______/______/______/______/______/______/______/______/______/______/_____ /\n",
    "*******************************************************************************\n",
    "''')"
   ]
  },
  {
   "cell_type": "code",
   "execution_count": null,
   "id": "0120ff8e-5cfd-4b33-a1d0-4a931d6dabe8",
   "metadata": {},
   "outputs": [],
   "source": []
  },
  {
   "cell_type": "code",
   "execution_count": null,
   "id": "29b9386d-38af-4087-9149-8c870f912c6c",
   "metadata": {},
   "outputs": [],
   "source": []
  },
  {
   "cell_type": "code",
   "execution_count": null,
   "id": "7ad0f952-5c33-45e7-abd4-b8a5bc0aca41",
   "metadata": {},
   "outputs": [],
   "source": [
    "#exception handling"
   ]
  },
  {
   "cell_type": "code",
   "execution_count": 3,
   "id": "f2623b01-5bfa-430a-9d5c-2a681682aab5",
   "metadata": {},
   "outputs": [
    {
     "name": "stdin",
     "output_type": "stream",
     "text": [
      "enter number 3\n",
      "enter number 0\n"
     ]
    },
    {
     "name": "stdout",
     "output_type": "stream",
     "text": [
      "Error:division by zero is not allowed\n"
     ]
    }
   ],
   "source": [
    "def divide(a,b):\n",
    "    try:\n",
    "        result=a/b\n",
    "    except ZeroDivisionError:\n",
    "        return \"Error:division by zero is not allowed\"\n",
    "    else:\n",
    "        return result\n",
    "a=int(input(\"enter number\"))\n",
    "b=int(input(\"enter number\"))\n",
    "print(divide(a,b))"
   ]
  },
  {
   "cell_type": "code",
   "execution_count": null,
   "id": "f1480ed5-3cee-4a4c-a584-ded81cf95430",
   "metadata": {},
   "outputs": [],
   "source": []
  },
  {
   "cell_type": "code",
   "execution_count": 21,
   "id": "0417401b-f316-4a42-a118-af3abb00da68",
   "metadata": {},
   "outputs": [
    {
     "name": "stdout",
     "output_type": "stream",
     "text": [
      "5.0\n",
      "Error: Division by zero is not allowed.\n",
      "Error: Inputs must be numbers.\n"
     ]
    }
   ],
   "source": [
    "def safe_divide(a, b):\n",
    "    try:\n",
    "        result = a / b\n",
    "    except ZeroDivisionError:\n",
    "        return \"Error: Division by zero is not allowed.\"\n",
    "    except TypeError:\n",
    "        return \"Error: Inputs must be numbers.\"\n",
    "    else:\n",
    "        return result\n",
    "\n",
    "print(safe_divide(10, 2))  \n",
    "print(safe_divide(10, 0))  \n",
    "print(safe_divide(10, 'a'))  "
   ]
  },
  {
   "cell_type": "code",
   "execution_count": null,
   "id": "3b7df357-8422-49c5-af1d-596b88b2af14",
   "metadata": {},
   "outputs": [],
   "source": []
  },
  {
   "cell_type": "code",
   "execution_count": 29,
   "id": "aaaaf974-1ea7-4244-b779-ea8b78bf4328",
   "metadata": {},
   "outputs": [
    {
     "name": "stdout",
     "output_type": "stream",
     "text": [
      "Division successful!\n",
      "Execution complete.\n",
      "5.0\n",
      "Execution complete.\n",
      "Error: Division by zero is not allowed.\n",
      "Execution complete.\n",
      "Error: Inputs must be numbers.\n"
     ]
    }
   ],
   "source": [
    "def safe_divide_with_finally(a, b):\n",
    "    try:\n",
    "        result = a / b\n",
    "    except ZeroDivisionError:\n",
    "        return \"Error: Division by zero is not allowed.\"\n",
    "    except TypeError:\n",
    "        return \"Error: Inputs must be numbers.\"\n",
    "    else:\n",
    "        print(\"Division successful!\")\n",
    "        return result\n",
    "    finally:\n",
    "        print(\"Execution complete.\")\n",
    "\n",
    "# Test the function\n",
    "print(safe_divide_with_finally(10, 2))  # Should print success message, result, and execution complete\n",
    "print(safe_divide_with_finally(10, 0))  # Should print an error message for division by zero and execution complete\n",
    "print(safe_divide_with_finally(10, 'a'))"
   ]
  },
  {
   "cell_type": "code",
   "execution_count": null,
   "id": "f0e488fc-5731-4aa8-a602-14522e8e3493",
   "metadata": {},
   "outputs": [],
   "source": []
  },
  {
   "cell_type": "code",
   "execution_count": 23,
   "id": "98aa0d9a-cd1c-4dd5-9695-93c29e75b252",
   "metadata": {},
   "outputs": [
    {
     "name": "stdout",
     "output_type": "stream",
     "text": [
      "Division successful!\n",
      "5.0\n",
      "Error: Division by zero is not allowed.\n",
      "Error: Inputs must be numbers.\n"
     ]
    }
   ],
   "source": [
    "def safe_divide_with_else(a, b):\n",
    "    try:\n",
    "        result = a / b\n",
    "    except ZeroDivisionError:\n",
    "        return \"Error: Division by zero is not allowed.\"\n",
    "    except TypeError:\n",
    "        return \"Error: Inputs must be numbers.\"\n",
    "    else:\n",
    "        print(\"Division successful!\")\n",
    "        return result\n",
    "\n",
    "print(safe_divide_with_else(10, 2)) \n",
    "print(safe_divide_with_else(10, 0)) \n",
    "print(safe_divide_with_else(10, 'a'))"
   ]
  },
  {
   "cell_type": "code",
   "execution_count": 25,
   "id": "93997626-3e71-4f04-a36b-f0c3c0eafc6e",
   "metadata": {},
   "outputs": [
    {
     "name": "stdout",
     "output_type": "stream",
     "text": [
      "Division successful!\n",
      "Execution complete.\n",
      "5.0\n",
      "Execution complete.\n",
      "Error: Division by zero is not allowed.\n",
      "Execution complete.\n",
      "Error: Inputs must be numbers.\n",
      "Execution complete.\n",
      "Error: Negative numbers are not allowed.\n"
     ]
    }
   ],
   "source": [
    "class NegativeNumberError(Exception):\n",
    "    pass\n",
    "\n",
    "def divide_with_custom_exception(a, b):\n",
    "    try:\n",
    "        if a < 0 or b < 0:\n",
    "            raise NegativeNumberError(\"Negative numbers are not allowed.\")\n",
    "        result = a / b\n",
    "    except ZeroDivisionError:\n",
    "        return \"Error: Division by zero is not allowed.\"\n",
    "    except TypeError:\n",
    "        return \"Error: Inputs must be numbers.\"\n",
    "    except NegativeNumberError as e:\n",
    "        return f\"Error: {e}\"\n",
    "    else:\n",
    "        print(\"Division successful!\")\n",
    "        return result\n",
    "    finally:\n",
    "        print(\"Execution complete.\")\n",
    "\n",
    "print(divide_with_custom_exception(10, 2)) \n",
    "print(divide_with_custom_exception(10, 0))\n",
    "print(divide_with_custom_exception(10, 'a')) \n",
    "print(divide_with_custom_exception(-10, 2)) "
   ]
  },
  {
   "cell_type": "code",
   "execution_count": null,
   "id": "052ee53c-243f-4da9-9423-5efa056221eb",
   "metadata": {},
   "outputs": [],
   "source": []
  },
  {
   "cell_type": "code",
   "execution_count": null,
   "id": "8d4481aa-aacd-466a-84e6-3e18a26523e7",
   "metadata": {},
   "outputs": [],
   "source": []
  }
 ],
 "metadata": {
  "kernelspec": {
   "display_name": "Python [conda env:base] *",
   "language": "python",
   "name": "conda-base-py"
  },
  "language_info": {
   "codemirror_mode": {
    "name": "ipython",
    "version": 3
   },
   "file_extension": ".py",
   "mimetype": "text/x-python",
   "name": "python",
   "nbconvert_exporter": "python",
   "pygments_lexer": "ipython3",
   "version": "3.12.7"
  }
 },
 "nbformat": 4,
 "nbformat_minor": 5
}
