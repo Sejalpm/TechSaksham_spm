{
 "cells": [
  {
   "cell_type": "code",
   "execution_count": 25,
   "id": "1e00df4f-0918-4ab9-8e46-c64c1968be9b",
   "metadata": {},
   "outputs": [
    {
     "name": "stdout",
     "output_type": "stream",
     "text": [
      "c= 30\n"
     ]
    }
   ],
   "source": [
    "a=10\n",
    "b=20\n",
    "c=a+b\n",
    "print(\"c=\",c)"
   ]
  },
  {
   "cell_type": "code",
   "execution_count": 27,
   "id": "f6dbfac5-8d8a-44a1-a2e7-660b9db44ecd",
   "metadata": {},
   "outputs": [
    {
     "data": {
      "text/plain": [
       "5"
      ]
     },
     "execution_count": 27,
     "metadata": {},
     "output_type": "execute_result"
    }
   ],
   "source": [
    "len('sejal')"
   ]
  },
  {
   "cell_type": "code",
   "execution_count": 29,
   "id": "2233794b-f11d-4cfe-b3a8-e67c1da4f223",
   "metadata": {},
   "outputs": [
    {
     "data": {
      "text/plain": [
       "13"
      ]
     },
     "execution_count": 29,
     "metadata": {},
     "output_type": "execute_result"
    }
   ],
   "source": [
    "len('suhani is mad')"
   ]
  },
  {
   "cell_type": "code",
   "execution_count": 70,
   "id": "797e711e-9bea-4fd7-a677-073df048de45",
   "metadata": {},
   "outputs": [
    {
     "data": {
      "text/plain": [
       "13"
      ]
     },
     "execution_count": 70,
     "metadata": {},
     "output_type": "execute_result"
    }
   ],
   "source": [
    "a='sejal pradeep'\n",
    "len(a)"
   ]
  },
  {
   "cell_type": "code",
   "execution_count": 78,
   "id": "748e62ac-2a3b-4c48-8fac-179bb363f0fe",
   "metadata": {},
   "outputs": [
    {
     "data": {
      "text/plain": [
       "'ej'"
      ]
     },
     "execution_count": 78,
     "metadata": {},
     "output_type": "execute_result"
    }
   ],
   "source": [
    "a=\"sejal\"\n",
    "a[1:3]"
   ]
  },
  {
   "cell_type": "code",
   "execution_count": 80,
   "id": "a5235c59-9ca0-4b3a-bed9-a8b833e16cc1",
   "metadata": {},
   "outputs": [
    {
     "data": {
      "text/plain": [
       "'lo '"
      ]
     },
     "execution_count": 80,
     "metadata": {},
     "output_type": "execute_result"
    }
   ],
   "source": [
    "a='hello everyone'\n",
    "a[3:6]"
   ]
  },
  {
   "cell_type": "code",
   "execution_count": 90,
   "id": "de1a392e-cb17-4c45-8422-aa198bdd667e",
   "metadata": {},
   "outputs": [
    {
     "data": {
      "text/plain": [
       "'hello everyone,I am from wit'"
      ]
     },
     "execution_count": 90,
     "metadata": {},
     "output_type": "execute_result"
    }
   ],
   "source": [
    "a + ',I am from wit'"
   ]
  },
  {
   "cell_type": "code",
   "execution_count": 84,
   "id": "955d1279-ac77-44d5-a408-99f38108ee78",
   "metadata": {},
   "outputs": [
    {
     "data": {
      "text/plain": [
       "'HELLO EVERYONE'"
      ]
     },
     "execution_count": 84,
     "metadata": {},
     "output_type": "execute_result"
    }
   ],
   "source": [
    "a.upper()"
   ]
  },
  {
   "cell_type": "code",
   "execution_count": 86,
   "id": "07b4e485-61ba-4f9f-9f48-9bd965fce434",
   "metadata": {},
   "outputs": [
    {
     "data": {
      "text/plain": [
       "'hello everyone'"
      ]
     },
     "execution_count": 86,
     "metadata": {},
     "output_type": "execute_result"
    }
   ],
   "source": [
    "a.lower()"
   ]
  },
  {
   "cell_type": "code",
   "execution_count": 94,
   "id": "a33476eb-8890-4cdd-8487-4fccdca7a01d",
   "metadata": {},
   "outputs": [
    {
     "data": {
      "text/plain": [
       "['hello', 'everyone']"
      ]
     },
     "execution_count": 94,
     "metadata": {},
     "output_type": "execute_result"
    }
   ],
   "source": [
    "a.split()"
   ]
  },
  {
   "cell_type": "code",
   "execution_count": 98,
   "id": "d3bf3fa2-0b2d-404a-9912-fcf07f87398c",
   "metadata": {},
   "outputs": [
    {
     "name": "stdout",
     "output_type": "stream",
     "text": [
      "['h', 'e', 'l', 'l', 'o']\n"
     ]
    }
   ],
   "source": [
    "def a(word):\n",
    "    return list(word)\n",
    "print(a(\"hello\"))"
   ]
  },
  {
   "cell_type": "code",
   "execution_count": 106,
   "id": "570a8c56-7c2b-4f34-a12c-0aa42419ccb2",
   "metadata": {},
   "outputs": [
    {
     "name": "stdout",
     "output_type": "stream",
     "text": [
      "enter name here ram and then raj\n"
     ]
    }
   ],
   "source": [
    "print('enter name here {} and then {}'. format('ram','raj'))"
   ]
  },
  {
   "cell_type": "code",
   "execution_count": 110,
   "id": "23996352-4990-4321-a70b-e15687487056",
   "metadata": {},
   "outputs": [
    {
     "name": "stdout",
     "output_type": "stream",
     "text": [
      "colours are pink yellow red\n"
     ]
    }
   ],
   "source": [
    "print('colours are {2} {1} {0}'.format('red','yellow','pink'))"
   ]
  },
  {
   "cell_type": "code",
   "execution_count": 114,
   "id": "55c0c5cb-7164-49f6-81f3-3f209b327e4a",
   "metadata": {},
   "outputs": [
    {
     "name": "stdout",
     "output_type": "stream",
     "text": [
      "he is Aman and she is Shreya\n"
     ]
    }
   ],
   "source": [
    "print('he is {} and she is {}'.format('Aman','Shreya'))"
   ]
  },
  {
   "cell_type": "code",
   "execution_count": 274,
   "id": "0b5df061-623f-4951-8de1-02b6512ae40e",
   "metadata": {},
   "outputs": [
    {
     "data": {
      "text/plain": [
       "list"
      ]
     },
     "execution_count": 274,
     "metadata": {},
     "output_type": "execute_result"
    }
   ],
   "source": [
    "list=[1,2,3,4,5]\n",
    "list\n",
    "type(list)"
   ]
  },
  {
   "cell_type": "code",
   "execution_count": null,
   "id": "ffd5f82b-8841-4551-87c8-a603e9483b9f",
   "metadata": {},
   "outputs": [],
   "source": []
  },
  {
   "cell_type": "code",
   "execution_count": 126,
   "id": "eebbe01a-04d3-4f0c-8755-42d42f5f62b8",
   "metadata": {},
   "outputs": [
    {
     "data": {
      "text/plain": [
       "3"
      ]
     },
     "execution_count": 126,
     "metadata": {},
     "output_type": "execute_result"
    }
   ],
   "source": [
    "list=[1,2.3,'ram']\n",
    "list\n",
    "len(list)"
   ]
  },
  {
   "cell_type": "code",
   "execution_count": null,
   "id": "7539edbd-c7cb-4b50-a37e-ed2b80d7ba44",
   "metadata": {},
   "outputs": [],
   "source": []
  },
  {
   "cell_type": "code",
   "execution_count": 130,
   "id": "7655ffc9-511f-4d02-92d1-f35dcf811fd7",
   "metadata": {},
   "outputs": [
    {
     "data": {
      "text/plain": [
       "[1, 2, 3, 4, 5, 6]"
      ]
     },
     "execution_count": 130,
     "metadata": {},
     "output_type": "execute_result"
    }
   ],
   "source": [
    "list1=[1,2,3]\n",
    "list2=[4,5,6]\n",
    "list1+list2"
   ]
  },
  {
   "cell_type": "code",
   "execution_count": null,
   "id": "f6b46619-2b0b-4f93-b5d2-92b6529a9c0f",
   "metadata": {},
   "outputs": [],
   "source": []
  },
  {
   "cell_type": "code",
   "execution_count": 132,
   "id": "3348d864-a774-422c-8a16-eff120b6470b",
   "metadata": {},
   "outputs": [
    {
     "data": {
      "text/plain": [
       "[1, 2, 3, 'ram']"
      ]
     },
     "execution_count": 132,
     "metadata": {},
     "output_type": "execute_result"
    }
   ],
   "source": [
    "list1=[1,2,3]\n",
    "list2=[4,5,6]\n",
    "list1.append('ram')\n",
    "list1"
   ]
  },
  {
   "cell_type": "code",
   "execution_count": 136,
   "id": "be8bd16b-9a7d-4b97-a1a0-b9da964fa6c4",
   "metadata": {},
   "outputs": [
    {
     "data": {
      "text/plain": [
       "['ram', 'raj', 'sita', 'radha']"
      ]
     },
     "execution_count": 136,
     "metadata": {},
     "output_type": "execute_result"
    }
   ],
   "source": [
    "list1=['ram','raj']\n",
    "list2=['sita','radha']\n",
    "list3=list1+list2\n",
    "list3"
   ]
  },
  {
   "cell_type": "code",
   "execution_count": 140,
   "id": "b9de8ba3-df77-417a-badf-fd5e132242b0",
   "metadata": {},
   "outputs": [
    {
     "data": {
      "text/plain": [
       "['ram', 'raj', 'sita', 'radha', 'Aman', 'Aman']"
      ]
     },
     "execution_count": 140,
     "metadata": {},
     "output_type": "execute_result"
    }
   ],
   "source": [
    "list3.append('Aman')\n",
    "list3"
   ]
  },
  {
   "cell_type": "code",
   "execution_count": 148,
   "id": "a7818aa9-a5ef-4413-b072-4df13b6127df",
   "metadata": {},
   "outputs": [
    {
     "data": {
      "text/plain": [
       "['raj']"
      ]
     },
     "execution_count": 148,
     "metadata": {},
     "output_type": "execute_result"
    }
   ],
   "source": [
    "list1[1:]"
   ]
  },
  {
   "cell_type": "code",
   "execution_count": 150,
   "id": "3978f6cc-ed7a-4d10-9af7-9ade50aea41e",
   "metadata": {},
   "outputs": [
    {
     "data": {
      "text/plain": [
       "[2, 3, 4, 5]"
      ]
     },
     "execution_count": 150,
     "metadata": {},
     "output_type": "execute_result"
    }
   ],
   "source": [
    "list=[1,2,3,4,5]\n",
    "list[1:]"
   ]
  },
  {
   "cell_type": "code",
   "execution_count": 152,
   "id": "3ce1460c-e12f-403d-a0d9-1480c7a76872",
   "metadata": {},
   "outputs": [
    {
     "data": {
      "text/plain": [
       "[2, 3, 4, 5]"
      ]
     },
     "execution_count": 152,
     "metadata": {},
     "output_type": "execute_result"
    }
   ],
   "source": [
    "list[1::]"
   ]
  },
  {
   "cell_type": "code",
   "execution_count": 156,
   "id": "cfb1a073-e50f-48ee-9cbc-2a78e4fedf0f",
   "metadata": {},
   "outputs": [
    {
     "data": {
      "text/plain": [
       "[4, 5]"
      ]
     },
     "execution_count": 156,
     "metadata": {},
     "output_type": "execute_result"
    }
   ],
   "source": [
    "list[3:]"
   ]
  },
  {
   "cell_type": "code",
   "execution_count": 158,
   "id": "e0b127cd-a8b3-44b1-845a-b05d60df22ae",
   "metadata": {},
   "outputs": [
    {
     "data": {
      "text/plain": [
       "[2, 3, 4, 5]"
      ]
     },
     "execution_count": 158,
     "metadata": {},
     "output_type": "execute_result"
    }
   ],
   "source": [
    "list[1:]"
   ]
  },
  {
   "cell_type": "code",
   "execution_count": 160,
   "id": "f9e00c4f-b5e7-4461-8ad2-28fa61fa60a1",
   "metadata": {},
   "outputs": [
    {
     "data": {
      "text/plain": [
       "[1, 2, 3]"
      ]
     },
     "execution_count": 160,
     "metadata": {},
     "output_type": "execute_result"
    }
   ],
   "source": [
    "list[:3]"
   ]
  },
  {
   "cell_type": "code",
   "execution_count": 166,
   "id": "54b1703e-9251-44ba-a3b7-31d8b156baf8",
   "metadata": {},
   "outputs": [
    {
     "data": {
      "text/plain": [
       "[]"
      ]
     },
     "execution_count": 166,
     "metadata": {},
     "output_type": "execute_result"
    }
   ],
   "source": [
    "list=['abc','xyz']\n",
    "list.clear()\n",
    "list"
   ]
  },
  {
   "cell_type": "code",
   "execution_count": 172,
   "id": "329f7a70-b253-47af-aaf7-a64ec16dd43a",
   "metadata": {},
   "outputs": [
    {
     "data": {
      "text/plain": [
       "4"
      ]
     },
     "execution_count": 172,
     "metadata": {},
     "output_type": "execute_result"
    }
   ],
   "source": [
    "list=[1,2,3,4,5]\n",
    "list.pop(3)"
   ]
  },
  {
   "cell_type": "code",
   "execution_count": 174,
   "id": "46ede279-d37e-4c19-af37-089c49184e7a",
   "metadata": {},
   "outputs": [
    {
     "data": {
      "text/plain": [
       "[1, 2, 3, 5]"
      ]
     },
     "execution_count": 174,
     "metadata": {},
     "output_type": "execute_result"
    }
   ],
   "source": [
    "list"
   ]
  },
  {
   "cell_type": "code",
   "execution_count": 266,
   "id": "b931da16-9cbf-4c1c-960d-181e4159f9ac",
   "metadata": {},
   "outputs": [
    {
     "data": {
      "text/plain": [
       "set"
      ]
     },
     "execution_count": 266,
     "metadata": {},
     "output_type": "execute_result"
    }
   ],
   "source": [
    "d1={1,2,'ram'}\n",
    "type(d1)"
   ]
  },
  {
   "cell_type": "code",
   "execution_count": null,
   "id": "7c4bb536-9b7f-4b38-9a88-02f8c1aa01bc",
   "metadata": {},
   "outputs": [],
   "source": []
  },
  {
   "cell_type": "code",
   "execution_count": 186,
   "id": "d6552134-937c-40fe-bdba-4db4ebdd81aa",
   "metadata": {},
   "outputs": [
    {
     "data": {
      "text/plain": [
       "{1}"
      ]
     },
     "execution_count": 186,
     "metadata": {},
     "output_type": "execute_result"
    }
   ],
   "source": [
    "d1={1,1}\n",
    "d1"
   ]
  },
  {
   "cell_type": "code",
   "execution_count": 212,
   "id": "23b1f855-ebff-43f3-b355-96050b9d56e1",
   "metadata": {},
   "outputs": [
    {
     "data": {
      "text/plain": [
       "{'key': 'sejal', 'key2': 'radha', 'key3': 123}"
      ]
     },
     "execution_count": 212,
     "metadata": {},
     "output_type": "execute_result"
    }
   ],
   "source": [
    "dict={'key':\"sejal\",\"key2\":\"radha\",'key3':123}\n",
    "dict"
   ]
  },
  {
   "cell_type": "code",
   "execution_count": 232,
   "id": "2866be93-b207-4861-836f-6e379475043b",
   "metadata": {},
   "outputs": [
    {
     "name": "stdout",
     "output_type": "stream",
     "text": [
      "BANANA\n"
     ]
    }
   ],
   "source": [
    "my_dict = {'key1': ['apple', 'banana'], 'key2': ['hello', 'world']}\n",
    "\n",
    "result = my_dict['key1'][1].upper() \n",
    "print(result)\n"
   ]
  },
  {
   "cell_type": "code",
   "execution_count": 264,
   "id": "b9d7ea0f-d314-4f9e-acff-06a4f53b69fb",
   "metadata": {},
   "outputs": [
    {
     "name": "stdout",
     "output_type": "stream",
     "text": [
      "HELLO\n",
      "<class 'type'>\n"
     ]
    }
   ],
   "source": [
    "my_dict = {'key1': ['apple', 'banana'], 'key2': ['hello', 'world']}\n",
    "\n",
    "result = my_dict['key2'][0].upper()  # Access first element of 'key2' list and convert to uppercase\n",
    "print(result)  # Output: 'HELLO'\n",
    "print(type)"
   ]
  },
  {
   "cell_type": "code",
   "execution_count": null,
   "id": "414a8a1b-6107-40b6-a6e4-c273c9d28403",
   "metadata": {},
   "outputs": [],
   "source": []
  },
  {
   "cell_type": "code",
   "execution_count": 246,
   "id": "260063c7-88a1-4780-9b58-cb9ad73b9b7c",
   "metadata": {},
   "outputs": [
    {
     "data": {
      "text/plain": [
       "{1, 2, 3, 4}"
      ]
     },
     "execution_count": 246,
     "metadata": {},
     "output_type": "execute_result"
    }
   ],
   "source": [
    "{1,2,3,4}"
   ]
  },
  {
   "cell_type": "code",
   "execution_count": 252,
   "id": "464526a0-3908-4d44-b217-6b5ecf4e7cc9",
   "metadata": {},
   "outputs": [
    {
     "data": {
      "text/plain": [
       "{1, 2, 3, 4, 5}"
      ]
     },
     "execution_count": 252,
     "metadata": {},
     "output_type": "execute_result"
    }
   ],
   "source": [
    "set={1,2,3,4,5}\n",
    "set"
   ]
  },
  {
   "cell_type": "code",
   "execution_count": 256,
   "id": "112b97b4-89c2-4498-b915-b8150ca58f69",
   "metadata": {},
   "outputs": [
    {
     "data": {
      "text/plain": [
       "{1, 'ram'}"
      ]
     },
     "execution_count": 256,
     "metadata": {},
     "output_type": "execute_result"
    }
   ],
   "source": [
    "set={'ram',1}\n",
    "set"
   ]
  },
  {
   "cell_type": "code",
   "execution_count": 260,
   "id": "91707f90-6542-4018-b76f-ffa7db83cd72",
   "metadata": {},
   "outputs": [
    {
     "data": {
      "text/plain": [
       "{1, 2, 3, 4, 'raj'}"
      ]
     },
     "execution_count": 260,
     "metadata": {},
     "output_type": "execute_result"
    }
   ],
   "source": [
    "set={1,1,1,'raj',2,3,4}\n",
    "set"
   ]
  },
  {
   "cell_type": "code",
   "execution_count": 1,
   "id": "20d82f2f-22dc-4d64-aea8-e2b5750377f5",
   "metadata": {},
   "outputs": [
    {
     "data": {
      "text/plain": [
       "type"
      ]
     },
     "execution_count": 1,
     "metadata": {},
     "output_type": "execute_result"
    }
   ],
   "source": [
    "type(set)"
   ]
  },
  {
   "cell_type": "code",
   "execution_count": null,
   "id": "b9f47910-22f8-4a84-a0dd-b0509246344e",
   "metadata": {},
   "outputs": [],
   "source": []
  },
  {
   "cell_type": "code",
   "execution_count": null,
   "id": "2b0d772c-0e59-4a95-84fb-a5fa18a0cf67",
   "metadata": {},
   "outputs": [],
   "source": []
  },
  {
   "cell_type": "code",
   "execution_count": null,
   "id": "91b48191-b1f1-43f5-8d67-c3ab55336af0",
   "metadata": {},
   "outputs": [],
   "source": []
  },
  {
   "cell_type": "code",
   "execution_count": null,
   "id": "2a3fc1d6-efaa-4001-89cd-4eb5c851d107",
   "metadata": {},
   "outputs": [],
   "source": []
  }
 ],
 "metadata": {
  "kernelspec": {
   "display_name": "Python [conda env:base] *",
   "language": "python",
   "name": "conda-base-py"
  },
  "language_info": {
   "codemirror_mode": {
    "name": "ipython",
    "version": 3
   },
   "file_extension": ".py",
   "mimetype": "text/x-python",
   "name": "python",
   "nbconvert_exporter": "python",
   "pygments_lexer": "ipython3",
   "version": "3.12.7"
  }
 },
 "nbformat": 4,
 "nbformat_minor": 5
}
