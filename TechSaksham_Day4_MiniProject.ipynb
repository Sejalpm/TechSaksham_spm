{
 "cells": [
  {
   "cell_type": "code",
   "execution_count": 1,
   "id": "05ca7af1-9e00-49c7-812a-d719db60105e",
   "metadata": {},
   "outputs": [],
   "source": [
    "##fitness tracker:"
   ]
  },
  {
   "cell_type": "code",
   "execution_count": 3,
   "id": "ae574ce7-dce8-4328-b83d-dff0b692b539",
   "metadata": {},
   "outputs": [
    {
     "name": "stdout",
     "output_type": "stream",
     "text": [
      "\n",
      "1. Add Workout\n",
      "2. View Summary\n",
      "3. Save Data\n",
      "4. Load Data\n",
      "5. Exit\n"
     ]
    },
    {
     "name": "stdin",
     "output_type": "stream",
     "text": [
      "Enter choice:  1\n",
      "Enter date (YYYY-MM-DD):  2024-12-12\n",
      "Enter exercise:  yoga\n",
      "Enter duration (minutes):  50\n",
      "Enter calories burned:  400\n"
     ]
    },
    {
     "name": "stdout",
     "output_type": "stream",
     "text": [
      "Workout added successfully!\n",
      "\n",
      "1. Add Workout\n",
      "2. View Summary\n",
      "3. Save Data\n",
      "4. Load Data\n",
      "5. Exit\n"
     ]
    },
    {
     "name": "stdin",
     "output_type": "stream",
     "text": [
      "Enter choice:  2\n"
     ]
    },
    {
     "name": "stdout",
     "output_type": "stream",
     "text": [
      "Date: 2024-12-12, Exercise: yoga, Duration: 50 mins, Calories Burned: 400\n",
      "\n",
      "1. Add Workout\n",
      "2. View Summary\n",
      "3. Save Data\n",
      "4. Load Data\n",
      "5. Exit\n"
     ]
    },
    {
     "name": "stdin",
     "output_type": "stream",
     "text": [
      "Enter choice:  3\n"
     ]
    },
    {
     "name": "stdout",
     "output_type": "stream",
     "text": [
      "Data saved successfully!\n",
      "\n",
      "1. Add Workout\n",
      "2. View Summary\n",
      "3. Save Data\n",
      "4. Load Data\n",
      "5. Exit\n"
     ]
    },
    {
     "name": "stdin",
     "output_type": "stream",
     "text": [
      "Enter choice:  1\n",
      "Enter date (YYYY-MM-DD):  2025-03-04\n",
      "Enter exercise:  pushups\n",
      "Enter duration (minutes):  60\n",
      "Enter calories burned:  400\n"
     ]
    },
    {
     "name": "stdout",
     "output_type": "stream",
     "text": [
      "Workout added successfully!\n",
      "\n",
      "1. Add Workout\n",
      "2. View Summary\n",
      "3. Save Data\n",
      "4. Load Data\n",
      "5. Exit\n"
     ]
    },
    {
     "name": "stdin",
     "output_type": "stream",
     "text": [
      "Enter choice:  2\n"
     ]
    },
    {
     "name": "stdout",
     "output_type": "stream",
     "text": [
      "Date: 2024-12-12, Exercise: yoga, Duration: 50 mins, Calories Burned: 400\n",
      "Date: 2025-03-04, Exercise: pushups, Duration: 60 mins, Calories Burned: 400\n",
      "\n",
      "1. Add Workout\n",
      "2. View Summary\n",
      "3. Save Data\n",
      "4. Load Data\n",
      "5. Exit\n"
     ]
    },
    {
     "name": "stdin",
     "output_type": "stream",
     "text": [
      "Enter choice:  5\n"
     ]
    },
    {
     "name": "stdout",
     "output_type": "stream",
     "text": [
      "Exiting... Goodbye!\n"
     ]
    }
   ],
   "source": [
    "import json\n",
    "\n",
    "class Workout:\n",
    "    def __init__(self, date, exercise, duration, calories):\n",
    "        self.date = date\n",
    "        self.exercise = exercise\n",
    "        self.duration = duration\n",
    "        self.calories = calories\n",
    "    \n",
    "    def to_dict(self):\n",
    "        return {\n",
    "            \"date\": self.date,\n",
    "            \"exercise\": self.exercise,\n",
    "            \"duration\": self.duration,\n",
    "            \"calories\": self.calories\n",
    "        }\n",
    "\n",
    "class FitnessTracker:\n",
    "    def __init__(self):\n",
    "        self.workouts = []\n",
    "    \n",
    "    def add_workout(self, date, exercise, duration, calories):\n",
    "        workout = Workout(date, exercise, duration, calories)\n",
    "        self.workouts.append(workout)\n",
    "        print(\"Workout added successfully!\")\n",
    "    \n",
    "    def view_summary(self):\n",
    "        if not self.workouts:\n",
    "            print(\"No workouts recorded yet.\")\n",
    "            return\n",
    "        for w in self.workouts:\n",
    "            print(f\"Date: {w.date}, Exercise: {w.exercise}, Duration: {w.duration} mins, Calories Burned: {w.calories}\")\n",
    "    \n",
    "    def save_data(self, filename=\"fitness_data.json\"):\n",
    "        with open(filename, \"w\") as f:\n",
    "            json.dump([w.to_dict() for w in self.workouts], f)\n",
    "        print(\"Data saved successfully!\")\n",
    "    \n",
    "    def load_data(self, filename=\"fitness_data.json\"):\n",
    "        try:\n",
    "            with open(filename, \"r\") as f:\n",
    "                data = json.load(f)\n",
    "                self.workouts = [Workout(**entry) for entry in data]\n",
    "            print(\"Data loaded successfully!\")\n",
    "        except FileNotFoundError:\n",
    "            print(\"No saved data found.\")\n",
    "\n",
    "if __name__ == \"__main__\":\n",
    "    tracker = FitnessTracker()\n",
    "    while True:\n",
    "        print(\"\\n1. Add Workout\\n2. View Summary\\n3. Save Data\\n4. Load Data\\n5. Exit\")\n",
    "        choice = input(\"Enter choice: \")\n",
    "        \n",
    "        if choice == \"1\":\n",
    "            date = input(\"Enter date (YYYY-MM-DD): \")\n",
    "            exercise = input(\"Enter exercise: \")\n",
    "            duration = int(input(\"Enter duration (minutes): \"))\n",
    "            calories = int(input(\"Enter calories burned: \"))\n",
    "            tracker.add_workout(date, exercise, duration, calories)\n",
    "        elif choice == \"2\":\n",
    "            tracker.view_summary()\n",
    "        elif choice == \"3\":\n",
    "            tracker.save_data()\n",
    "        elif choice == \"4\":\n",
    "            tracker.load_data()\n",
    "        elif choice == \"5\":\n",
    "            print(\"Exiting... Goodbye!\")\n",
    "            break\n",
    "        else:\n",
    "            print(\"Invalid choice! Please enter a valid option.\")\n"
   ]
  },
  {
   "cell_type": "code",
   "execution_count": null,
   "id": "0959430f-a2ae-484b-a17a-01695218bdeb",
   "metadata": {},
   "outputs": [],
   "source": []
  },
  {
   "cell_type": "code",
   "execution_count": 6,
   "id": "9bb6360b-b7de-4d47-826e-647d347bc704",
   "metadata": {},
   "outputs": [
    {
     "name": "stdout",
     "output_type": "stream",
     "text": [
      "Workout Data:\n",
      "{'date': '2024-12-12', 'exercise': 'yoga', 'duration': 50, 'calories': 400}\n"
     ]
    }
   ],
   "source": [
    "import json\n",
    "\n",
    "filename = \"fitness_data.json\"\n",
    "\n",
    "try:\n",
    "    with open(filename, \"r\") as f:\n",
    "        data = json.load(f)\n",
    "        print(\"Workout Data:\")\n",
    "        for entry in data:\n",
    "            print(entry)\n",
    "except FileNotFoundError:\n",
    "    print(\"File not found!\")\n",
    "except json.JSONDecodeError:\n",
    "    print(\"Error decoding JSON. File might be empty or corrupted.\")"
   ]
  },
  {
   "cell_type": "code",
   "execution_count": null,
   "id": "553e22e4-72ca-4a15-94d2-d2625945b191",
   "metadata": {},
   "outputs": [],
   "source": []
  },
  {
   "cell_type": "code",
   "execution_count": 9,
   "id": "7e13d11d-cfef-4463-8b28-183777671a1c",
   "metadata": {},
   "outputs": [
    {
     "name": "stdout",
     "output_type": "stream",
     "text": [
      "        date exercise  duration  calories\n",
      "0 2024-12-12     yoga        50       400\n"
     ]
    }
   ],
   "source": [
    "import pandas as pd\n",
    "\n",
    "filename = \"fitness_data.json\"\n",
    "\n",
    "try:\n",
    "    df = pd.read_json(filename)\n",
    "    print(df)\n",
    "except ValueError:\n",
    "    print(\"Error reading JSON file!\")\n"
   ]
  },
  {
   "cell_type": "code",
   "execution_count": null,
   "id": "807048d6-5cc6-4531-8ed5-d5e51ef24d25",
   "metadata": {},
   "outputs": [],
   "source": []
  }
 ],
 "metadata": {
  "kernelspec": {
   "display_name": "Python [conda env:base] *",
   "language": "python",
   "name": "conda-base-py"
  },
  "language_info": {
   "codemirror_mode": {
    "name": "ipython",
    "version": 3
   },
   "file_extension": ".py",
   "mimetype": "text/x-python",
   "name": "python",
   "nbconvert_exporter": "python",
   "pygments_lexer": "ipython3",
   "version": "3.12.7"
  }
 },
 "nbformat": 4,
 "nbformat_minor": 5
}
