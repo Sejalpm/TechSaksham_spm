{
 "cells": [
  {
   "cell_type": "code",
   "execution_count": 1,
   "id": "8120f587-c7e1-4110-9310-90fd78030deb",
   "metadata": {},
   "outputs": [
    {
     "data": {
      "text/plain": [
       "'hello'"
      ]
     },
     "execution_count": 1,
     "metadata": {},
     "output_type": "execute_result"
    }
   ],
   "source": [
    "\"hello\""
   ]
  },
  {
   "cell_type": "code",
   "execution_count": 7,
   "id": "826fbcd5-7038-4d73-83e8-45e9adb96bed",
   "metadata": {},
   "outputs": [
    {
     "name": "stdout",
     "output_type": "stream",
     "text": [
      "hie\n"
     ]
    }
   ],
   "source": [
    "print (\"hie\")"
   ]
  },
  {
   "cell_type": "code",
   "execution_count": 5,
   "id": "10856f41-1ccf-47d0-b617-f4f7127aad4f",
   "metadata": {},
   "outputs": [
    {
     "name": "stdout",
     "output_type": "stream",
     "text": [
      "hi\n"
     ]
    }
   ],
   "source": [
    "print(\"hi\")"
   ]
  },
  {
   "cell_type": "code",
   "execution_count": 9,
   "id": "a04abaf7-5777-4893-8dad-734767be0504",
   "metadata": {},
   "outputs": [
    {
     "data": {
      "text/plain": [
       "'walchand institute of technology, solapur'"
      ]
     },
     "execution_count": 9,
     "metadata": {},
     "output_type": "execute_result"
    }
   ],
   "source": [
    "'walchand institute of technology, solapur'"
   ]
  },
  {
   "cell_type": "code",
   "execution_count": 15,
   "id": "113e1efe-3aa5-4a85-8311-402ef88f7772",
   "metadata": {},
   "outputs": [
    {
     "name": "stdout",
     "output_type": "stream",
     "text": [
      "My name is abc\n",
      "friend\n",
      "\n",
      "\n",
      "hie\n"
     ]
    }
   ],
   "source": [
    "print(\"My name is abc\")\n",
    "print (\"friend\")\n",
    "print('\\n')\n",
    "print(\"hie\")"
   ]
  },
  {
   "cell_type": "code",
   "execution_count": 25,
   "id": "1e00df4f-0918-4ab9-8e46-c64c1968be9b",
   "metadata": {},
   "outputs": [
    {
     "name": "stdout",
     "output_type": "stream",
     "text": [
      "c= 30\n"
     ]
    }
   ],
   "source": [
    "a=10\n",
    "b=20\n",
    "c=a+b\n",
    "print(\"c=\",c)"
   ]
  },
  {
   "cell_type": "code",
   "execution_count": 27,
   "id": "f6dbfac5-8d8a-44a1-a2e7-660b9db44ecd",
   "metadata": {},
   "outputs": [
    {
     "data": {
      "text/plain": [
       "5"
      ]
     },
     "execution_count": 27,
     "metadata": {},
     "output_type": "execute_result"
    }
   ],
   "source": [
    "len('sejal')"
   ]
  },
  {
   "cell_type": "code",
   "execution_count": 29,
   "id": "2233794b-f11d-4cfe-b3a8-e67c1da4f223",
   "metadata": {},
   "outputs": [
    {
     "data": {
      "text/plain": [
       "13"
      ]
     },
     "execution_count": 29,
     "metadata": {},
     "output_type": "execute_result"
    }
   ],
   "source": [
    "len('suhani is mad')"
   ]
  },
  {
   "cell_type": "code",
   "execution_count": 70,
   "id": "797e711e-9bea-4fd7-a677-073df048de45",
   "metadata": {},
   "outputs": [
    {
     "data": {
      "text/plain": [
       "13"
      ]
     },
     "execution_count": 70,
     "metadata": {},
     "output_type": "execute_result"
    }
   ],
   "source": [
    "a='sejal pradeep'\n",
    "len(a)"
   ]
  },
  {
   "cell_type": "code",
   "execution_count": 78,
   "id": "748e62ac-2a3b-4c48-8fac-179bb363f0fe",
   "metadata": {},
   "outputs": [
    {
     "data": {
      "text/plain": [
       "'ej'"
      ]
     },
     "execution_count": 78,
     "metadata": {},
     "output_type": "execute_result"
    }
   ],
   "source": [
    "a=\"sejal\"\n",
    "a[1:3]"
   ]
  },
  {
   "cell_type": "code",
   "execution_count": 80,
   "id": "a5235c59-9ca0-4b3a-bed9-a8b833e16cc1",
   "metadata": {},
   "outputs": [
    {
     "data": {
      "text/plain": [
       "'lo '"
      ]
     },
     "execution_count": 80,
     "metadata": {},
     "output_type": "execute_result"
    }
   ],
   "source": [
    "a='hello everyone'\n",
    "a[3:6]"
   ]
  },
  {
   "cell_type": "code",
   "execution_count": 90,
   "id": "de1a392e-cb17-4c45-8422-aa198bdd667e",
   "metadata": {},
   "outputs": [
    {
     "data": {
      "text/plain": [
       "'hello everyone,I am from wit'"
      ]
     },
     "execution_count": 90,
     "metadata": {},
     "output_type": "execute_result"
    }
   ],
   "source": [
    "a + ',I am from wit'"
   ]
  },
  {
   "cell_type": "code",
   "execution_count": 84,
   "id": "955d1279-ac77-44d5-a408-99f38108ee78",
   "metadata": {},
   "outputs": [
    {
     "data": {
      "text/plain": [
       "'HELLO EVERYONE'"
      ]
     },
     "execution_count": 84,
     "metadata": {},
     "output_type": "execute_result"
    }
   ],
   "source": [
    "a.upper()"
   ]
  },
  {
   "cell_type": "code",
   "execution_count": 86,
   "id": "07b4e485-61ba-4f9f-9f48-9bd965fce434",
   "metadata": {},
   "outputs": [
    {
     "data": {
      "text/plain": [
       "'hello everyone'"
      ]
     },
     "execution_count": 86,
     "metadata": {},
     "output_type": "execute_result"
    }
   ],
   "source": [
    "a.lower()"
   ]
  },
  {
   "cell_type": "code",
   "execution_count": 94,
   "id": "a33476eb-8890-4cdd-8487-4fccdca7a01d",
   "metadata": {},
   "outputs": [
    {
     "data": {
      "text/plain": [
       "['hello', 'everyone']"
      ]
     },
     "execution_count": 94,
     "metadata": {},
     "output_type": "execute_result"
    }
   ],
   "source": [
    "a.split()"
   ]
  },
  {
   "cell_type": "code",
   "execution_count": 98,
   "id": "d3bf3fa2-0b2d-404a-9912-fcf07f87398c",
   "metadata": {},
   "outputs": [
    {
     "name": "stdout",
     "output_type": "stream",
     "text": [
      "['h', 'e', 'l', 'l', 'o']\n"
     ]
    }
   ],
   "source": [
    "def a(word):\n",
    "    return list(word)\n",
    "print(a(\"hello\"))"
   ]
  },
  {
   "cell_type": "code",
   "execution_count": 106,
   "id": "570a8c56-7c2b-4f34-a12c-0aa42419ccb2",
   "metadata": {},
   "outputs": [
    {
     "name": "stdout",
     "output_type": "stream",
     "text": [
      "enter name here ram and then raj\n"
     ]
    }
   ],
   "source": [
    "print('enter name here {} and then {}'. format('ram','raj'))"
   ]
  },
  {
   "cell_type": "code",
   "execution_count": 110,
   "id": "23996352-4990-4321-a70b-e15687487056",
   "metadata": {},
   "outputs": [
    {
     "name": "stdout",
     "output_type": "stream",
     "text": [
      "colours are pink yellow red\n"
     ]
    }
   ],
   "source": [
    "print('colours are {2} {1} {0}'.format('red','yellow','pink'))"
   ]
  },
  {
   "cell_type": "code",
   "execution_count": 114,
   "id": "55c0c5cb-7164-49f6-81f3-3f209b327e4a",
   "metadata": {},
   "outputs": [
    {
     "name": "stdout",
     "output_type": "stream",
     "text": [
      "he is Aman and she is Shreya\n"
     ]
    }
   ],
   "source": [
    "print('he is {} and she is {}'.format('Aman','Shreya'))"
   ]
  },
  {
   "cell_type": "code",
   "execution_count": 274,
   "id": "0b5df061-623f-4951-8de1-02b6512ae40e",
   "metadata": {},
   "outputs": [
    {
     "data": {
      "text/plain": [
       "list"
      ]
     },
     "execution_count": 274,
     "metadata": {},
     "output_type": "execute_result"
    }
   ],
   "source": [
    "list=[1,2,3,4,5]\n",
    "list\n",
    "type(list)"
   ]
  },
  {
   "cell_type": "code",
   "execution_count": null,
   "id": "2e638acd-5b23-4a64-83f6-9f9ce7f052e0",
   "metadata": {},
   "outputs": [],
   "source": []
  },
  {
   "cell_type": "code",
   "execution_count": 126,
   "id": "eebbe01a-04d3-4f0c-8755-42d42f5f62b8",
   "metadata": {},
   "outputs": [
    {
     "data": {
      "text/plain": [
       "3"
      ]
     },
     "execution_count": 126,
     "metadata": {},
     "output_type": "execute_result"
    }
   ],
   "source": [
    "list=[1,2.3,'ram']\n",
    "list\n",
    "len(list)"
   ]
  },
  {
   "cell_type": "code",
   "execution_count": null,
   "id": "7539edbd-c7cb-4b50-a37e-ed2b80d7ba44",
   "metadata": {},
   "outputs": [],
   "source": []
  },
  {
   "cell_type": "code",
   "execution_count": 130,
   "id": "7655ffc9-511f-4d02-92d1-f35dcf811fd7",
   "metadata": {},
   "outputs": [
    {
     "data": {
      "text/plain": [
       "[1, 2, 3, 4, 5, 6]"
      ]
     },
     "execution_count": 130,
     "metadata": {},
     "output_type": "execute_result"
    }
   ],
   "source": [
    "list1=[1,2,3]\n",
    "list2=[4,5,6]\n",
    "list1+list2"
   ]
  },
  {
   "cell_type": "code",
   "execution_count": null,
   "id": "f6b46619-2b0b-4f93-b5d2-92b6529a9c0f",
   "metadata": {},
   "outputs": [],
   "source": []
  },
  {
   "cell_type": "code",
   "execution_count": 132,
   "id": "3348d864-a774-422c-8a16-eff120b6470b",
   "metadata": {},
   "outputs": [
    {
     "data": {
      "text/plain": [
       "[1, 2, 3, 'ram']"
      ]
     },
     "execution_count": 132,
     "metadata": {},
     "output_type": "execute_result"
    }
   ],
   "source": [
    "list1=[1,2,3]\n",
    "list2=[4,5,6]\n",
    "list1.append('ram')\n",
    "list1"
   ]
  },
  {
   "cell_type": "code",
   "execution_count": 136,
   "id": "be8bd16b-9a7d-4b97-a1a0-b9da964fa6c4",
   "metadata": {},
   "outputs": [
    {
     "data": {
      "text/plain": [
       "['ram', 'raj', 'sita', 'radha']"
      ]
     },
     "execution_count": 136,
     "metadata": {},
     "output_type": "execute_result"
    }
   ],
   "source": [
    "list1=['ram','raj']\n",
    "list2=['sita','radha']\n",
    "list3=list1+list2\n",
    "list3"
   ]
  },
  {
   "cell_type": "code",
   "execution_count": 140,
   "id": "b9de8ba3-df77-417a-badf-fd5e132242b0",
   "metadata": {},
   "outputs": [
    {
     "data": {
      "text/plain": [
       "['ram', 'raj', 'sita', 'radha', 'Aman', 'Aman']"
      ]
     },
     "execution_count": 140,
     "metadata": {},
     "output_type": "execute_result"
    }
   ],
   "source": [
    "list3.append('Aman')\n",
    "list3"
   ]
  },
  {
   "cell_type": "code",
   "execution_count": 148,
   "id": "a7818aa9-a5ef-4413-b072-4df13b6127df",
   "metadata": {},
   "outputs": [
    {
     "data": {
      "text/plain": [
       "['raj']"
      ]
     },
     "execution_count": 148,
     "metadata": {},
     "output_type": "execute_result"
    }
   ],
   "source": [
    "list1[1:]"
   ]
  },
  {
   "cell_type": "code",
   "execution_count": 150,
   "id": "3978f6cc-ed7a-4d10-9af7-9ade50aea41e",
   "metadata": {},
   "outputs": [
    {
     "data": {
      "text/plain": [
       "[2, 3, 4, 5]"
      ]
     },
     "execution_count": 150,
     "metadata": {},
     "output_type": "execute_result"
    }
   ],
   "source": [
    "list=[1,2,3,4,5]\n",
    "list[1:]"
   ]
  },
  {
   "cell_type": "code",
   "execution_count": 152,
   "id": "3ce1460c-e12f-403d-a0d9-1480c7a76872",
   "metadata": {},
   "outputs": [
    {
     "data": {
      "text/plain": [
       "[2, 3, 4, 5]"
      ]
     },
     "execution_count": 152,
     "metadata": {},
     "output_type": "execute_result"
    }
   ],
   "source": [
    "list[1::]"
   ]
  },
  {
   "cell_type": "code",
   "execution_count": 156,
   "id": "cfb1a073-e50f-48ee-9cbc-2a78e4fedf0f",
   "metadata": {},
   "outputs": [
    {
     "data": {
      "text/plain": [
       "[4, 5]"
      ]
     },
     "execution_count": 156,
     "metadata": {},
     "output_type": "execute_result"
    }
   ],
   "source": [
    "list[3:]"
   ]
  },
  {
   "cell_type": "code",
   "execution_count": 158,
   "id": "e0b127cd-a8b3-44b1-845a-b05d60df22ae",
   "metadata": {},
   "outputs": [
    {
     "data": {
      "text/plain": [
       "[2, 3, 4, 5]"
      ]
     },
     "execution_count": 158,
     "metadata": {},
     "output_type": "execute_result"
    }
   ],
   "source": [
    "list[1:]"
   ]
  },
  {
   "cell_type": "code",
   "execution_count": 160,
   "id": "f9e00c4f-b5e7-4461-8ad2-28fa61fa60a1",
   "metadata": {},
   "outputs": [
    {
     "data": {
      "text/plain": [
       "[1, 2, 3]"
      ]
     },
     "execution_count": 160,
     "metadata": {},
     "output_type": "execute_result"
    }
   ],
   "source": [
    "list[:3]"
   ]
  },
  {
   "cell_type": "code",
   "execution_count": 166,
   "id": "54b1703e-9251-44ba-a3b7-31d8b156baf8",
   "metadata": {},
   "outputs": [
    {
     "data": {
      "text/plain": [
       "[]"
      ]
     },
     "execution_count": 166,
     "metadata": {},
     "output_type": "execute_result"
    }
   ],
   "source": [
    "list=['abc','xyz']\n",
    "list.clear()\n",
    "list"
   ]
  },
  {
   "cell_type": "code",
   "execution_count": 172,
   "id": "329f7a70-b253-47af-aaf7-a64ec16dd43a",
   "metadata": {},
   "outputs": [
    {
     "data": {
      "text/plain": [
       "4"
      ]
     },
     "execution_count": 172,
     "metadata": {},
     "output_type": "execute_result"
    }
   ],
   "source": [
    "list=[1,2,3,4,5]\n",
    "list.pop(3)"
   ]
  },
  {
   "cell_type": "code",
   "execution_count": 174,
   "id": "46ede279-d37e-4c19-af37-089c49184e7a",
   "metadata": {},
   "outputs": [
    {
     "data": {
      "text/plain": [
       "[1, 2, 3, 5]"
      ]
     },
     "execution_count": 174,
     "metadata": {},
     "output_type": "execute_result"
    }
   ],
   "source": [
    "list"
   ]
  },
  {
   "cell_type": "code",
   "execution_count": 266,
   "id": "b931da16-9cbf-4c1c-960d-181e4159f9ac",
   "metadata": {},
   "outputs": [
    {
     "data": {
      "text/plain": [
       "set"
      ]
     },
     "execution_count": 266,
     "metadata": {},
     "output_type": "execute_result"
    }
   ],
   "source": [
    "d1={1,2,'ram'}\n",
    "type(d1)"
   ]
  },
  {
   "cell_type": "code",
   "execution_count": null,
   "id": "7c4bb536-9b7f-4b38-9a88-02f8c1aa01bc",
   "metadata": {},
   "outputs": [],
   "source": []
  },
  {
   "cell_type": "code",
   "execution_count": 186,
   "id": "d6552134-937c-40fe-bdba-4db4ebdd81aa",
   "metadata": {},
   "outputs": [
    {
     "data": {
      "text/plain": [
       "{1}"
      ]
     },
     "execution_count": 186,
     "metadata": {},
     "output_type": "execute_result"
    }
   ],
   "source": [
    "d1={1,1}\n",
    "d1"
   ]
  },
  {
   "cell_type": "code",
   "execution_count": 212,
   "id": "23b1f855-ebff-43f3-b355-96050b9d56e1",
   "metadata": {},
   "outputs": [
    {
     "data": {
      "text/plain": [
       "{'key': 'sejal', 'key2': 'radha', 'key3': 123}"
      ]
     },
     "execution_count": 212,
     "metadata": {},
     "output_type": "execute_result"
    }
   ],
   "source": [
    "dict={'key':\"sejal\",\"key2\":\"radha\",'key3':123}\n",
    "dict"
   ]
  },
  {
   "cell_type": "code",
   "execution_count": 232,
   "id": "2866be93-b207-4861-836f-6e379475043b",
   "metadata": {},
   "outputs": [
    {
     "name": "stdout",
     "output_type": "stream",
     "text": [
      "BANANA\n"
     ]
    }
   ],
   "source": [
    "my_dict = {'key1': ['apple', 'banana'], 'key2': ['hello', 'world']}\n",
    "\n",
    "result = my_dict['key1'][1].upper() \n",
    "print(result)\n"
   ]
  },
  {
   "cell_type": "code",
   "execution_count": 264,
   "id": "b9d7ea0f-d314-4f9e-acff-06a4f53b69fb",
   "metadata": {},
   "outputs": [
    {
     "name": "stdout",
     "output_type": "stream",
     "text": [
      "HELLO\n",
      "<class 'type'>\n"
     ]
    }
   ],
   "source": [
    "my_dict = {'key1': ['apple', 'banana'], 'key2': ['hello', 'world']}\n",
    "\n",
    "result = my_dict['key2'][0].upper()  # Access first element of 'key2' list and convert to uppercase\n",
    "print(result)  # Output: 'HELLO'\n",
    "print(type)"
   ]
  },
  {
   "cell_type": "code",
   "execution_count": null,
   "id": "414a8a1b-6107-40b6-a6e4-c273c9d28403",
   "metadata": {},
   "outputs": [],
   "source": []
  },
  {
   "cell_type": "code",
   "execution_count": 246,
   "id": "260063c7-88a1-4780-9b58-cb9ad73b9b7c",
   "metadata": {},
   "outputs": [
    {
     "data": {
      "text/plain": [
       "{1, 2, 3, 4}"
      ]
     },
     "execution_count": 246,
     "metadata": {},
     "output_type": "execute_result"
    }
   ],
   "source": [
    "{1,2,3,4}"
   ]
  },
  {
   "cell_type": "code",
   "execution_count": 252,
   "id": "464526a0-3908-4d44-b217-6b5ecf4e7cc9",
   "metadata": {},
   "outputs": [
    {
     "data": {
      "text/plain": [
       "{1, 2, 3, 4, 5}"
      ]
     },
     "execution_count": 252,
     "metadata": {},
     "output_type": "execute_result"
    }
   ],
   "source": [
    "set={1,2,3,4,5}\n",
    "set"
   ]
  },
  {
   "cell_type": "code",
   "execution_count": 256,
   "id": "112b97b4-89c2-4498-b915-b8150ca58f69",
   "metadata": {},
   "outputs": [
    {
     "data": {
      "text/plain": [
       "{1, 'ram'}"
      ]
     },
     "execution_count": 256,
     "metadata": {},
     "output_type": "execute_result"
    }
   ],
   "source": [
    "set={'ram',1}\n",
    "set"
   ]
  },
  {
   "cell_type": "code",
   "execution_count": 260,
   "id": "91707f90-6542-4018-b76f-ffa7db83cd72",
   "metadata": {},
   "outputs": [
    {
     "data": {
      "text/plain": [
       "{1, 2, 3, 4, 'raj'}"
      ]
     },
     "execution_count": 260,
     "metadata": {},
     "output_type": "execute_result"
    }
   ],
   "source": [
    "set={1,1,1,'raj',2,3,4}\n",
    "set"
   ]
  },
  {
   "cell_type": "code",
   "execution_count": 262,
   "id": "20d82f2f-22dc-4d64-aea8-e2b5750377f5",
   "metadata": {},
   "outputs": [
    {
     "data": {
      "text/plain": [
       "set"
      ]
     },
     "execution_count": 262,
     "metadata": {},
     "output_type": "execute_result"
    }
   ],
   "source": [
    "type(set)"
   ]
  },
  {
   "cell_type": "code",
   "execution_count": 1,
   "id": "fb67b3c6-36cd-4d22-8ba2-a8d7571023c9",
   "metadata": {},
   "outputs": [
    {
     "name": "stdout",
     "output_type": "stream",
     "text": [
      "b is larger\n"
     ]
    }
   ],
   "source": [
    "a=20\n",
    "b=30\n",
    "if (a>b):\n",
    "    print('a is larger')\n",
    "else:\n",
    "    print('b is larger')"
   ]
  },
  {
   "cell_type": "code",
   "execution_count": 5,
   "id": "90daebfa-9a26-4aee-bc3b-8b382e8a2bff",
   "metadata": {},
   "outputs": [
    {
     "name": "stdout",
     "output_type": "stream",
     "text": [
      "even\n"
     ]
    }
   ],
   "source": [
    "a=6\n",
    "if(a%2==0):\n",
    "    print('even')\n",
    "else:\n",
    "    print('odd')"
   ]
  },
  {
   "cell_type": "code",
   "execution_count": 7,
   "id": "83fe320f-ef91-408f-b93e-f135a6458ae7",
   "metadata": {},
   "outputs": [
    {
     "name": "stdout",
     "output_type": "stream",
     "text": [
      "negative\n"
     ]
    }
   ],
   "source": [
    "a=-7\n",
    "if(a>0):\n",
    "    print('positive')\n",
    "else:\n",
    "    print('negative')"
   ]
  },
  {
   "cell_type": "code",
   "execution_count": 31,
   "id": "75ae8045-20a2-45b4-8f8d-646fc724eadd",
   "metadata": {},
   "outputs": [
    {
     "name": "stdin",
     "output_type": "stream",
     "text": [
      "Enter the number of units consumed:  100000\n"
     ]
    },
    {
     "name": "stdout",
     "output_type": "stream",
     "text": [
      "Total electricity bill for 100000 units: Rs. 1393900\n"
     ]
    }
   ],
   "source": [
    "def bill(units):\n",
    "    if units <= 200:\n",
    "        bill = 0\n",
    "    elif units <= 500:\n",
    "        bill = (units - 200) * 8\n",
    "    elif units <= 1000:\n",
    "        bill = (300 * 8) + (units - 500) * 11\n",
    "    else:\n",
    "        bill = (300 * 8) + (500 * 11) + (units - 1000) * 14\n",
    "    \n",
    "    return bill\n",
    "\n",
    "units = int(input(\"Enter the number of units consumed: \"))\n",
    "bill_amount =bill(units)\n",
    "\n",
    "print(f\"Total electricity bill for {units} units: Rs. {bill_amount}\")"
   ]
  },
  {
   "cell_type": "code",
   "execution_count": null,
   "id": "9ff07c33-6af1-438a-b4d8-33b4c62c25cf",
   "metadata": {},
   "outputs": [],
   "source": []
  },
  {
   "cell_type": "code",
   "execution_count": 41,
   "id": "7c012e9d-5aaa-48bc-84f5-611418e03257",
   "metadata": {},
   "outputs": [
    {
     "name": "stdout",
     "output_type": "stream",
     "text": [
      "2\n",
      "4\n"
     ]
    }
   ],
   "source": [
    "list=[1,2,3,4]\n",
    "for num in list:\n",
    "    if num%2==0:\n",
    "        print(num)"
   ]
  },
  {
   "cell_type": "code",
   "execution_count": 45,
   "id": "fd6200d4-0dbf-4fbc-b40d-6d5d8ea60519",
   "metadata": {},
   "outputs": [
    {
     "name": "stdout",
     "output_type": "stream",
     "text": [
      "1\n",
      "3\n",
      "4\n",
      "5\n",
      "0.05\n"
     ]
    }
   ],
   "source": [
    "list=[1,-2,3,4,-4,5,0.05]\n",
    "for num in list:\n",
    "    if num>0:\n",
    "        print(num)"
   ]
  },
  {
   "cell_type": "code",
   "execution_count": null,
   "id": "cb81689f-feee-491b-98b1-f5ee09e0bf11",
   "metadata": {},
   "outputs": [],
   "source": []
  },
  {
   "cell_type": "code",
   "execution_count": 13,
   "id": "cf140195-fc05-4453-8625-08eb3fdc55d3",
   "metadata": {},
   "outputs": [
    {
     "name": "stdin",
     "output_type": "stream",
     "text": [
      "Enter a number: 5\n"
     ]
    },
    {
     "name": "stdout",
     "output_type": "stream",
     "text": [
      "5 is a prime number\n"
     ]
    }
   ],
   "source": [
    "num = int(input('Enter a number:'))\n",
    "\n",
    "if num > 1:\n",
    "    for i in range(2, int(num ** 0.5) + 1):\n",
    "        if num % i == 0:\n",
    "            print(f\"{num} is not a prime number\")\n",
    "            break\n",
    "    else:\n",
    "        print(f\"{num} is a prime number\")\n",
    "else:\n",
    "    print(f\"{num} is not a prime number\")\n"
   ]
  },
  {
   "cell_type": "code",
   "execution_count": null,
   "id": "5206437a-8709-4271-ba5b-ba2942ab7391",
   "metadata": {},
   "outputs": [],
   "source": []
  },
  {
   "cell_type": "code",
   "execution_count": 23,
   "id": "883cf3a2-f324-449b-8034-688f3dd0b46f",
   "metadata": {},
   "outputs": [
    {
     "name": "stdin",
     "output_type": "stream",
     "text": [
      "Enter a number: 5\n"
     ]
    },
    {
     "name": "stdout",
     "output_type": "stream",
     "text": [
      "5 is not a prime number\n"
     ]
    }
   ],
   "source": [
    "num = int(input('Enter a number:'))\n",
    "for i in range(2, int(num ** 0.5) + 1):\n",
    "        if num % i == 0:\n",
    "            print(num)\n",
    "        else:\n",
    "            print(f\"{num} is not a prime number\")\n"
   ]
  },
  {
   "cell_type": "code",
   "execution_count": null,
   "id": "aca28a0f-b024-49e7-9a61-aaa46ef74169",
   "metadata": {},
   "outputs": [],
   "source": []
  },
  {
   "cell_type": "code",
   "execution_count": 25,
   "id": "6c571624-7514-4206-bb1e-83f98577c53d",
   "metadata": {},
   "outputs": [
    {
     "name": "stdout",
     "output_type": "stream",
     "text": [
      "[1, 2, 3, 4, 5]\n"
     ]
    }
   ],
   "source": [
    "list=[1,2,3,4,5]\n",
    "for i in list:\n",
    "    if inde\n",
    "print(list)"
   ]
  },
  {
   "cell_type": "code",
   "execution_count": 32,
   "id": "50290552-19f2-401b-ae03-62db2807dc07",
   "metadata": {},
   "outputs": [
    {
     "name": "stdout",
     "output_type": "stream",
     "text": [
      "1\n",
      "2\n",
      "3\n",
      "4\n",
      "5\n"
     ]
    }
   ],
   "source": [
    "list=[1,2,3,4,5]\n",
    "for i in list:\n",
    "    print(i)"
   ]
  },
  {
   "cell_type": "code",
   "execution_count": 42,
   "id": "3ae1b8fc-f2b7-494d-851a-f9028218d50d",
   "metadata": {},
   "outputs": [
    {
     "data": {
      "text/plain": [
       "[1, 2, 3, 5, 8]"
      ]
     },
     "execution_count": 42,
     "metadata": {},
     "output_type": "execute_result"
    }
   ],
   "source": [
    "list=[1,2,3,8,5]\n",
    "list.sort()\n",
    "list"
   ]
  },
  {
   "cell_type": "code",
   "execution_count": null,
   "id": "67f0b850-3c08-4105-afdb-e4eac379a543",
   "metadata": {},
   "outputs": [],
   "source": []
  },
  {
   "cell_type": "code",
   "execution_count": 50,
   "id": "8a8a0d15-7d22-4e84-8390-223aa9171087",
   "metadata": {},
   "outputs": [
    {
     "name": "stdin",
     "output_type": "stream",
     "text": [
      "Enter a number:  15\n"
     ]
    },
    {
     "name": "stdout",
     "output_type": "stream",
     "text": [
      "Prime numbers up to 15 are: [2, 3, 5, 7, 11, 13]\n"
     ]
    }
   ],
   "source": [
    "def is_prime(num):\n",
    "    if num < 2:\n",
    "        return False\n",
    "    for i in range(2, int(num**0.5) + 1):\n",
    "        if num % i == 0:\n",
    "            return False\n",
    "    return True\n",
    "\n",
    "def prime_numbers(n):\n",
    "    primes = [num for num in range(2, n+1) if is_prime(num)]\n",
    "    return primes\n",
    "\n",
    "n = int(input(\"Enter a number: \"))\n",
    "print(\"Prime numbers up to\", n, \"are:\", prime_numbers(n))\n"
   ]
  },
  {
   "cell_type": "code",
   "execution_count": null,
   "id": "7be1849e-1041-4485-a6fc-3a1c7085a67e",
   "metadata": {},
   "outputs": [],
   "source": []
  },
  {
   "cell_type": "code",
   "execution_count": 58,
   "id": "03a7d8b0-a67f-4865-bf1a-17b227318864",
   "metadata": {},
   "outputs": [
    {
     "name": "stdin",
     "output_type": "stream",
     "text": [
      "enter n 7\n"
     ]
    },
    {
     "name": "stdout",
     "output_type": "stream",
     "text": [
      "1 2 3 4 5 6 7 "
     ]
    }
   ],
   "source": [
    "n=int(input('enter n'))  \n",
    "for i in range(1, n+1):\n",
    "    print(i, end=\" \")\n"
   ]
  },
  {
   "cell_type": "code",
   "execution_count": null,
   "id": "2c42277a-78e1-4fed-a927-691c9ee6484c",
   "metadata": {},
   "outputs": [],
   "source": []
  },
  {
   "cell_type": "code",
   "execution_count": 1,
   "id": "293fae65-4df9-432a-8f34-04c51ff663f7",
   "metadata": {},
   "outputs": [
    {
     "name": "stdout",
     "output_type": "stream",
     "text": [
      "Reversed: rupalos ygolonhcet fo etutitsni dnahclaw\n",
      "Even index chars: rplsyoohe oeuisidaca\n",
      "Odd index chars: uao glnctf tttn nhlw\n",
      "Split: ['walchand', 'institute', 'of', 'technology', 'solapur']\n",
      "Vowels: ['a', 'a', 'i', 'i', 'u', 'e', 'o', 'e', 'o', 'o', 'o', 'a', 'u']\n",
      "Vowel count: 13\n",
      "Character count: 40\n",
      "Letter counts:\n",
      "'w': 1\n",
      "'a': 3\n",
      "'l': 3\n",
      "'c': 2\n",
      "'h': 2\n",
      "'n': 3\n",
      "'d': 1\n",
      "'i': 2\n",
      "'s': 2\n",
      "'t': 4\n",
      "'u': 2\n",
      "'e': 2\n",
      "'o': 4\n",
      "'f': 1\n",
      "'g': 1\n",
      "'y': 1\n",
      "'p': 1\n",
      "'r': 1\n"
     ]
    }
   ],
   "source": [
    "def process_sentence(sentence):\n",
    "    reversed_sentence = \"\"\n",
    "    for char in sentence[::-1]:\n",
    "        reversed_sentence += char\n",
    "\n",
    "    even_chars = \"\"\n",
    "    for i in range(0, len(reversed_sentence), 2):\n",
    "        even_chars += reversed_sentence[i]\n",
    "    odd_chars = \"\"\n",
    "    for i in range(1, len(reversed_sentence), 2):\n",
    "        odd_chars += reversed_sentence[i]\n",
    "\n",
    "    split_sentence = []\n",
    "    word = \"\"\n",
    "    for char in sentence:\n",
    "        if char == \" \":\n",
    "            if word:\n",
    "                split_sentence.append(word)\n",
    "                word = \"\"\n",
    "        else:\n",
    "            word += char\n",
    "    if word:\n",
    "        split_sentence.append(word)\n",
    "\n",
    "    vowels = []\n",
    "    vowel_count = 0\n",
    "    for char in sentence:\n",
    "        if char.lower() in \"aeiou\":\n",
    "            vowels.append(char)\n",
    "            vowel_count += 1\n",
    "\n",
    "    char_count = 0\n",
    "    for char in sentence:\n",
    "        char_count += 1\n",
    "\n",
    "    letter_counts = {}\n",
    "    for char in sentence:\n",
    "        if char != \" \":\n",
    "            if char in letter_counts:\n",
    "                letter_counts[char] += 1\n",
    "            else:\n",
    "                letter_counts[char] = 1\n",
    "\n",
    "    print(\"Reversed:\", reversed_sentence)\n",
    "    print(\"Even index chars:\", even_chars)\n",
    "    print(\"Odd index chars:\", odd_chars)\n",
    "    print(\"Split:\", split_sentence)\n",
    "    print(\"Vowels:\", vowels)\n",
    "    print(\"Vowel count:\", vowel_count)\n",
    "    print(\"Character count:\", char_count)\n",
    "    print(\"Letter counts:\")\n",
    "    for letter, count in letter_counts.items():\n",
    "        print(f\"'{letter}': {count}\")\n",
    "\n",
    "sentence = \"walchand institute of technology solapur\"\n",
    "process_sentence(sentence)\n",
    "\n"
   ]
  },
  {
   "cell_type": "code",
   "execution_count": null,
   "id": "cfa93463-84a2-4de5-8739-9371c7014908",
   "metadata": {},
   "outputs": [],
   "source": []
  },
  {
   "cell_type": "code",
   "execution_count": 25,
   "id": "f29fd21d-17a3-4e32-814a-9f253182fac2",
   "metadata": {},
   "outputs": [
    {
     "name": "stdin",
     "output_type": "stream",
     "text": [
      "enter name sejal\n"
     ]
    },
    {
     "name": "stdout",
     "output_type": "stream",
     "text": [
      "5\n"
     ]
    }
   ],
   "source": [
    "count=0\n",
    "string=(input(\"enter name\"))\n",
    "for i in string:\n",
    "    count=count+1\n",
    "print(count)"
   ]
  },
  {
   "cell_type": "code",
   "execution_count": null,
   "id": "a65e5626-df99-411b-9b2c-c2e79b7bdb4a",
   "metadata": {},
   "outputs": [],
   "source": []
  },
  {
   "cell_type": "code",
   "execution_count": 33,
   "id": "afb9ac6d-7f8b-42b4-b0e3-b5cb5915c53e",
   "metadata": {},
   "outputs": [
    {
     "data": {
      "text/plain": [
       "'sejaL'"
      ]
     },
     "execution_count": 33,
     "metadata": {},
     "output_type": "execute_result"
    }
   ],
   "source": [
    "string=(input(\"enter name\"))\n",
    "for i in string:\n",
    "    if string\n",
    "string"
   ]
  },
  {
   "cell_type": "code",
   "execution_count": null,
   "id": "c5c3918c-b598-4869-af65-9ae2ac704405",
   "metadata": {},
   "outputs": [],
   "source": []
  },
  {
   "cell_type": "code",
   "execution_count": 43,
   "id": "2fc7136a-89e4-4a52-aaa2-45dcfba97c5e",
   "metadata": {},
   "outputs": [
    {
     "name": "stdin",
     "output_type": "stream",
     "text": [
      "Enter a string:  SEjal\n"
     ]
    },
    {
     "name": "stdout",
     "output_type": "stream",
     "text": [
      "Converted string: seJAL\n"
     ]
    }
   ],
   "source": [
    "def swap_case_manual(s):\n",
    "    result = \"\"\n",
    "    for char in s:\n",
    "        if 'a' <= char <= 'z':\n",
    "            result += chr(ord(char) - 32) \n",
    "        elif 'A' <= char <= 'Z':\n",
    "            result += chr(ord(char) + 32) \n",
    "        else:\n",
    "            result += char  \n",
    "    return result\n",
    "\n",
    "input_string = input(\"Enter a string: \")\n",
    "output_string = swap_case_manual(input_string)\n",
    "print(\"string:\", output_string)\n"
   ]
  },
  {
   "cell_type": "code",
   "execution_count": null,
   "id": "6dc14dec-29c1-4d92-9da4-eb76de5b6f49",
   "metadata": {},
   "outputs": [],
   "source": []
  },
  {
   "cell_type": "code",
   "execution_count": 47,
   "id": "417c932b-b830-4cf4-9cde-d1b13966c73d",
   "metadata": {},
   "outputs": [
    {
     "name": "stdout",
     "output_type": "stream",
     "text": [
      "ram\n",
      "ram\n",
      "ram\n",
      "ram\n",
      "ram\n",
      "ram\n",
      "ram\n",
      "ram\n",
      "ram\n",
      "ram\n"
     ]
    }
   ],
   "source": [
    "for i in range(1,11):\n",
    "    print('ram')"
   ]
  },
  {
   "cell_type": "code",
   "execution_count": 1,
   "id": "f2795d41-5035-49af-8d57-20410a5d0a61",
   "metadata": {},
   "outputs": [
    {
     "name": "stdout",
     "output_type": "stream",
     "text": [
      "ram\n"
     ]
    }
   ],
   "source": [
    "while True:\n",
    "    print(\"ram\")\n",
    "    break\n"
   ]
  },
  {
   "cell_type": "code",
   "execution_count": null,
   "id": "c7611d48-70c1-411b-940d-7e11b842a50c",
   "metadata": {},
   "outputs": [],
   "source": []
  },
  {
   "cell_type": "code",
   "execution_count": 3,
   "id": "9587938c-143f-4011-a3d2-e3f1926f6935",
   "metadata": {},
   "outputs": [
    {
     "name": "stdout",
     "output_type": "stream",
     "text": [
      "1\n",
      "2\n",
      "3\n",
      "4\n",
      "5\n",
      "loop ended\n"
     ]
    }
   ],
   "source": [
    "x=1\n",
    "while x<6:\n",
    "    print(x)\n",
    "    x+=1\n",
    "else:\n",
    "    print(\"loop ended\")"
   ]
  },
  {
   "cell_type": "code",
   "execution_count": 5,
   "id": "d5652a33-4aff-4ed5-b30e-d66581de3a00",
   "metadata": {},
   "outputs": [
    {
     "name": "stdout",
     "output_type": "stream",
     "text": [
      "1\n",
      "2\n",
      "3\n",
      "4\n",
      "5\n"
     ]
    }
   ],
   "source": [
    "x=1\n",
    "while x<6:\n",
    "    print(x)\n",
    "    x+=1"
   ]
  },
  {
   "cell_type": "code",
   "execution_count": null,
   "id": "4ae3fb05-5a0a-4ee5-89b7-eb3c1f3f4a45",
   "metadata": {},
   "outputs": [],
   "source": []
  },
  {
   "cell_type": "code",
   "execution_count": 7,
   "id": "5aede05f-3e81-4552-aca4-5a6daf04f5cf",
   "metadata": {},
   "outputs": [
    {
     "name": "stdout",
     "output_type": "stream",
     "text": [
      "10\n",
      "9\n",
      "8\n",
      "7\n",
      "6\n",
      "5\n",
      "4\n",
      "3\n",
      "2\n",
      "1\n"
     ]
    }
   ],
   "source": [
    "x=10\n",
    "while x>0:\n",
    "    print(x)\n",
    "    x-=1"
   ]
  },
  {
   "cell_type": "code",
   "execution_count": null,
   "id": "2d81d89e-a715-40fa-b5cf-ea4513cb8491",
   "metadata": {},
   "outputs": [],
   "source": []
  },
  {
   "cell_type": "code",
   "execution_count": 3,
   "id": "01cdcb91-7f7d-4348-b2db-e2b1ab056484",
   "metadata": {},
   "outputs": [
    {
     "name": "stdin",
     "output_type": "stream",
     "text": [
      "Enter a number:  6\n"
     ]
    },
    {
     "name": "stdout",
     "output_type": "stream",
     "text": [
      "6 is not a prime number\n"
     ]
    }
   ],
   "source": [
    "def prime(n):\n",
    "    if n < 2:\n",
    "        return False  \n",
    "    i = 2\n",
    "    while i * i <= n: \n",
    "        if n % i == 0:\n",
    "            return False \n",
    "        i += 1 \n",
    "    return True\n",
    "    \n",
    "num = int(input(\"Enter a number: \"))\n",
    "if prime(num):\n",
    "    print(num, \"is a prime number\")\n",
    "else:\n",
    "    print(num, \"is not a prime number\")\n"
   ]
  },
  {
   "cell_type": "code",
   "execution_count": null,
   "id": "c50ac059-1c60-4da7-86ac-6b1c2d4fe55c",
   "metadata": {},
   "outputs": [],
   "source": []
  },
  {
   "cell_type": "code",
   "execution_count": 1,
   "id": "14e8655a-f14b-4f13-a566-25edac60e715",
   "metadata": {},
   "outputs": [
    {
     "name": "stdin",
     "output_type": "stream",
     "text": [
      "enter number 5\n"
     ]
    },
    {
     "name": "stdout",
     "output_type": "stream",
     "text": [
      "0\n",
      "1\n",
      "1\n",
      "2\n",
      "3\n",
      "series\n"
     ]
    }
   ],
   "source": [
    "n=int(input(\"enter number\"))\n",
    "next=0\n",
    "prev=1\n",
    "count=0\n",
    "while count<n:\n",
    "    print(next)\n",
    "    next,prev =prev,next +prev\n",
    "    count=count+1\n",
    "print('series')\n",
    "    "
   ]
  },
  {
   "cell_type": "code",
   "execution_count": null,
   "id": "eee9f7b4-6fe6-40b7-abcb-ce13148dcfff",
   "metadata": {},
   "outputs": [],
   "source": []
  },
  {
   "cell_type": "code",
   "execution_count": null,
   "id": "43b94140-f5af-45b6-9093-a8c39d094e15",
   "metadata": {},
   "outputs": [],
   "source": []
  },
  {
   "cell_type": "code",
   "execution_count": 7,
   "id": "5bdc4eb2-672f-468c-9844-f62177329ce4",
   "metadata": {},
   "outputs": [
    {
     "name": "stdin",
     "output_type": "stream",
     "text": [
      "Enter a number:  5\n"
     ]
    },
    {
     "data": {
      "text/plain": [
       "120"
      ]
     },
     "execution_count": 7,
     "metadata": {},
     "output_type": "execute_result"
    }
   ],
   "source": [
    "n = int(input(\"Enter a number: \"))\n",
    "fact = 1\n",
    "i = 1  \n",
    "while i <= n:\n",
    "    fact = fact * i\n",
    "    i += 1  \n",
    "fact\n"
   ]
  },
  {
   "cell_type": "code",
   "execution_count": null,
   "id": "6e10c924-82dd-469c-a867-dec5b321b89f",
   "metadata": {},
   "outputs": [],
   "source": []
  },
  {
   "cell_type": "code",
   "execution_count": 11,
   "id": "80f2c0a2-d981-41a3-9990-95ed8672ca70",
   "metadata": {},
   "outputs": [
    {
     "name": "stdout",
     "output_type": "stream",
     "text": [
      "toyota 2016\n"
     ]
    }
   ],
   "source": [
    "class car:\n",
    "    def __init__(self,model,year):\n",
    "        self.model=model\n",
    "        self.year=year\n",
    "    def display(self):\n",
    "        print(self.model,self.year)\n",
    "c1=car(\"toyota\",2016)\n",
    "c1.display()"
   ]
  },
  {
   "cell_type": "code",
   "execution_count": null,
   "id": "03b25ad3-64e6-45f4-b674-919159372b32",
   "metadata": {},
   "outputs": [],
   "source": []
  },
  {
   "cell_type": "code",
   "execution_count": 13,
   "id": "4ab3a745-9be1-4fb3-aee9-540cbb7c9886",
   "metadata": {},
   "outputs": [
    {
     "name": "stdout",
     "output_type": "stream",
     "text": [
      "1000\n"
     ]
    }
   ],
   "source": [
    "class vehicle:\n",
    "    def __init__(self,year):\n",
    "        self.year=year\n",
    "    def display(self):\n",
    "        print(self.year)\n",
    "v1=vehicle(1000)\n",
    "v1.display()"
   ]
  },
  {
   "cell_type": "code",
   "execution_count": 21,
   "id": "f77d2acb-cccd-43fe-beb1-2b125a812ea9",
   "metadata": {},
   "outputs": [
    {
     "name": "stdout",
     "output_type": "stream",
     "text": [
      "Rodger is a mammal\n",
      "Tommy is also a mammal\n",
      "My name is Rodger\n",
      "My name is Tommy\n"
     ]
    }
   ],
   "source": [
    "#Creating a class and object with class and instance attributes\n",
    "class Dog:\n",
    "\n",
    "\t# class attribute\n",
    "\tattr1 = \"mammal\"\n",
    "\n",
    "\t# Instance attribute\n",
    "\tdef __init__(self, name):\n",
    "\t\tself.name = name\n",
    "\n",
    "# Driver code\n",
    "# Object instantiation\n",
    "Rodger = Dog(\"Rodger\")\n",
    "Tommy = Dog(\"Tommy\")\n",
    "\n",
    "# Accessing class attributes\n",
    "print(\"Rodger is a {}\".format(Rodger.__class__.attr1))\n",
    "print(\"Tommy is also a {}\".format(Tommy.__class__.attr1))\n",
    "\n",
    "# Accessing instance attributes\n",
    "print(\"My name is {}\".format(Rodger.name))\n",
    "print(\"My name is {}\".format(Tommy.name))"
   ]
  },
  {
   "cell_type": "code",
   "execution_count": 23,
   "id": "4fcf2ca1-2e8b-452b-9653-0800cd3c4616",
   "metadata": {},
   "outputs": [
    {
     "name": "stdout",
     "output_type": "stream",
     "text": [
      "My name is Rodger\n",
      "My name is Tommy\n"
     ]
    }
   ],
   "source": [
    "class Dog:\n",
    "\n",
    "\t# class attribute\n",
    "\tattr1 = \"mammal\"\n",
    "\n",
    "\t# Instance attribute\n",
    "\tdef __init__(self, name):\n",
    "\t\tself.name = name\n",
    "\t\t\n",
    "\tdef speak(self):\n",
    "\t\tprint(\"My name is {}\".format(self.name))\n",
    "\n",
    "# Driver code\n",
    "# Object instantiation\n",
    "Rodger = Dog(\"Rodger\")\n",
    "Tommy = Dog(\"Tommy\")\n",
    "\n",
    "# Accessing class methods\n",
    "Rodger.speak()\n",
    "Tommy.speak()"
   ]
  },
  {
   "cell_type": "code",
   "execution_count": null,
   "id": "87ae6698-ec9d-40bd-aaa0-7715dada0d98",
   "metadata": {},
   "outputs": [],
   "source": []
  },
  {
   "cell_type": "code",
   "execution_count": 27,
   "id": "c1e3ae8f-3814-4c28-986b-ed05007557e3",
   "metadata": {},
   "outputs": [
    {
     "data": {
      "text/plain": [
       "[2, 4, 6]"
      ]
     },
     "execution_count": 27,
     "metadata": {},
     "output_type": "execute_result"
    }
   ],
   "source": [
    "def check_even_list(num_list):\n",
    "    even_numbers=[]\n",
    "    for number in num_list:\n",
    "        if number%2==0:\n",
    "            even_numbers.append(number)\n",
    "        else:\n",
    "            pass\n",
    "    return even_numbers\n",
    "check_even_list([1,2,3,4,5,6])"
   ]
  },
  {
   "cell_type": "code",
   "execution_count": null,
   "id": "e739661b-8f5b-4b0e-b91c-8363b4c9aa8e",
   "metadata": {},
   "outputs": [],
   "source": []
  },
  {
   "cell_type": "code",
   "execution_count": null,
   "id": "78ed349a-7c95-4bf2-a5d7-55d3092e994e",
   "metadata": {},
   "outputs": [],
   "source": [
    "inheritance:"
   ]
  },
  {
   "cell_type": "code",
   "execution_count": 46,
   "id": "f1e585a8-77e5-4fbf-971d-e677f4148a2a",
   "metadata": {},
   "outputs": [
    {
     "name": "stdout",
     "output_type": "stream",
     "text": [
      "ram\n",
      "8999\n",
      "my name is ram\n",
      "idnumber:8999\n",
      "post: intern\n"
     ]
    }
   ],
   "source": [
    "class person(object):\n",
    "    def __init__(self,name,idnumber):\n",
    "        self.name=name\n",
    "        self.idnumber=idnumber\n",
    "    def display(self):\n",
    "        print(self.name)\n",
    "        print(self.idnumber)\n",
    "    def details(self):\n",
    "        print('my name is {}'.format(self.name))\n",
    "        print('idnumber:{}'.format(self.idnumber))\n",
    "\n",
    "class employee(person):\n",
    "    def __init__(self,name,idnumber,salary,post):\n",
    "        self.salary=salary\n",
    "        self.post=post\n",
    "        person.__init__(self,name,idnumber)\n",
    "    def details(self):\n",
    "        print('my name is {}'.format(self.name))\n",
    "        print('idnumber:{}'.format(self.idnumber))\n",
    "        print('post: {}'.format(self.post))\n",
    "a=employee('ram',8999,8999,'intern')\n",
    "a.display()\n",
    "a.details()        "
   ]
  },
  {
   "cell_type": "code",
   "execution_count": null,
   "id": "9a0b51ca-747f-40fd-9ef0-c2df80c91e48",
   "metadata": {},
   "outputs": [],
   "source": []
  },
  {
   "cell_type": "code",
   "execution_count": 66,
   "id": "9731386e-86b0-4747-b4ad-5fa6ea37e763",
   "metadata": {},
   "outputs": [
    {
     "name": "stdout",
     "output_type": "stream",
     "text": [
      "name of dad is ram\n",
      "his age is 40\n",
      "name of mom is sita\n",
      "her age is 38\n",
      "name of city is pune\n",
      "and my name is rahul\n"
     ]
    }
   ],
   "source": [
    "class dad(object):\n",
    "    def __init__(self,name1,age1):\n",
    "        self.name1=name1\n",
    "        self.age1=age1\n",
    "    def display(self):\n",
    "        print(self.name1)\n",
    "        print(self.age1)\n",
    "    def details(self):\n",
    "        print('name of dad {}'.format(self.name1))\n",
    "        print('and his age is {}'.format(self.age1))\n",
    "        \n",
    "class mom(dad):\n",
    "    def __init__(self,name2,age2,city2):\n",
    "        self.name2=name2\n",
    "        self.age2=age2\n",
    "        self.city2=city2\n",
    "    def display(self):\n",
    "        print(self.name2)\n",
    "        print(self.age2)\n",
    "        print(self.city2)\n",
    "    def details(self):\n",
    "        print('name of mom {}'.format(self.name2))\n",
    "        print('and her age is {}'.format(self.age2))\n",
    "        print('she live in {} city'.format(self.city2))\n",
    "\n",
    "class child(mom,dad):\n",
    "    def __init__(self,name1,age1,name2,age2,city2,name3):\n",
    "        self.name3=name3\n",
    "        dad.__init__(self,name1,age1)\n",
    "        mom.__init__(self,name2,age2,city2)\n",
    "    def details(self):\n",
    "        print('name of dad is {}'.format(self.name1))\n",
    "        print('his age is {}'.format(self.age1))\n",
    "        print('name of mom is {}'.format(self.name2))\n",
    "        print('her age is {}'.format(self.age2))\n",
    "        print('name of city is {}'.format(self.city2))\n",
    "        print('and my name is {}'.format(self.name3))\n",
    "\n",
    "\n",
    "a=child('ram',40,'sita',38,'pune','rahul')\n",
    "a.details()\n"
   ]
  },
  {
   "cell_type": "code",
   "execution_count": null,
   "id": "4d67a931-fcda-40f2-8a19-5f6db5457215",
   "metadata": {},
   "outputs": [],
   "source": []
  },
  {
   "cell_type": "code",
   "execution_count": null,
   "id": "93e3fdad-7aa2-42f9-a7ec-a0e939382023",
   "metadata": {},
   "outputs": [],
   "source": []
  },
  {
   "cell_type": "code",
   "execution_count": 9,
   "id": "7cc2f439-5e7a-4825-be8e-9f3766cf23a8",
   "metadata": {},
   "outputs": [
    {
     "name": "stdin",
     "output_type": "stream",
     "text": [
      "enter a 5\n",
      "enter b 2\n"
     ]
    },
    {
     "name": "stdout",
     "output_type": "stream",
     "text": [
      "add= 7\n",
      "sub= 3\n",
      "mul= 10\n",
      "div= 2.5\n"
     ]
    }
   ],
   "source": [
    "a=int(input(\"enter a\"))\n",
    "b=int(input(\"enter b\"))\n",
    "def add(a,b):\n",
    "    return a+b\n",
    "def sub(a,b):\n",
    "    return a-b\n",
    "def mul(a,b):\n",
    "    return a*b\n",
    "def div(a,b):\n",
    "    return a/b\n",
    "print(\"add=\",add(a,b))\n",
    "print(\"sub=\",sub(a,b))\n",
    "print(\"mul=\",mul(a,b))\n",
    "print(\"div=\",div(a,b))"
   ]
  },
  {
   "cell_type": "code",
   "execution_count": null,
   "id": "5dec4f9f-7211-44c9-bff7-6aea42dbf4c5",
   "metadata": {},
   "outputs": [],
   "source": []
  },
  {
   "cell_type": "code",
   "execution_count": 15,
   "id": "33ebc160-2639-4f40-a9e0-4f683e211387",
   "metadata": {},
   "outputs": [
    {
     "name": "stdin",
     "output_type": "stream",
     "text": [
      "enter a 4\n",
      "enter b 2\n",
      "Choose operation: 1-Add, 2-Subtract, 3-Multiply, 4-Divide:  4\n"
     ]
    },
    {
     "name": "stdout",
     "output_type": "stream",
     "text": [
      "Result: 2.0\n"
     ]
    }
   ],
   "source": [
    "def calculate(a,b,op):\n",
    "    if op==1:\n",
    "        return a+b\n",
    "    if op==2:\n",
    "        return a-b\n",
    "    if op==3:\n",
    "        return a*b\n",
    "    if op==4:\n",
    "        return a/b\n",
    "a=int(input(\"enter a\"))\n",
    "b=int(input(\"enter b\"))\n",
    "op=int(input(\"Choose operation: 1-Add, 2-Subtract, 3-Multiply, 4-Divide: \"))\n",
    "result = calculate(a,b, op)\n",
    "print(\"Result:\", result)"
   ]
  },
  {
   "cell_type": "code",
   "execution_count": null,
   "id": "afcc3983-17f1-41f2-b2e9-9ded991a017e",
   "metadata": {},
   "outputs": [],
   "source": []
  },
  {
   "cell_type": "code",
   "execution_count": 13,
   "id": "aa01a858-d21c-48af-bc3d-9784bbc8dcaa",
   "metadata": {},
   "outputs": [
    {
     "name": "stdin",
     "output_type": "stream",
     "text": [
      "Enter first number:  4\n",
      "Enter second number:  1\n",
      "Choose operation: 1-Add, 2-Subtract, 3-Multiply, 4-Divide:  3\n"
     ]
    },
    {
     "name": "stdout",
     "output_type": "stream",
     "text": [
      "Result: 4.0\n"
     ]
    }
   ],
   "source": [
    "def calculate(num1, num2, operation):\n",
    "    if operation == 1:\n",
    "        return num1 + num2\n",
    "    elif operation == 2:\n",
    "        return num1 - num2\n",
    "    elif operation == 3:\n",
    "        return num1 * num2\n",
    "    elif operation == 4:\n",
    "        return num1 / num2 if num2 != 0 else \"Cannot divide by zero\"\n",
    "    else:\n",
    "        return \"Invalid operation choice\"\n",
    "\n",
    "num1 = float(input(\"Enter first number: \"))\n",
    "num2 = float(input(\"Enter second number: \"))\n",
    "operation = int(input(\"Choose operation: 1-Add, 2-Subtract, 3-Multiply, 4-Divide: \"))\n",
    "\n",
    "result = calculate(num1, num2, operation)\n",
    "print(\"Result:\", result)\n"
   ]
  },
  {
   "cell_type": "code",
   "execution_count": null,
   "id": "8534c018-6a77-4d22-b432-91d7c09bb919",
   "metadata": {},
   "outputs": [],
   "source": []
  },
  {
   "cell_type": "code",
   "execution_count": 37,
   "id": "e43eee51-16ca-42ab-9615-1c3ee59e56b7",
   "metadata": {},
   "outputs": [
    {
     "name": "stdin",
     "output_type": "stream",
     "text": [
      "Enter names using comma:  rajn,dhf,dhej\n"
     ]
    },
    {
     "name": "stdout",
     "output_type": "stream",
     "text": [
      "dhf will pay the bill!\n"
     ]
    }
   ],
   "source": [
    "import random\n",
    "\n",
    "names_string = input(\"Enter names using comma: \")\n",
    "\n",
    "names_list = names_string.split(\",\")\n",
    "random_index = random.randint(0, len(names_list) - 1)\n",
    "\n",
    "pay= names_list[random_index]\n",
    "print(f\"{pay} will pay the bill!\")\n"
   ]
  },
  {
   "cell_type": "code",
   "execution_count": null,
   "id": "84e79545-6dfb-4995-bff5-80767a698416",
   "metadata": {},
   "outputs": [],
   "source": []
  },
  {
   "cell_type": "code",
   "execution_count": null,
   "id": "db827891-482d-47fd-b7ab-90118c7019f0",
   "metadata": {},
   "outputs": [],
   "source": [
    "pass=input(\"enter pass\")\n",
    "len(pass)=="
   ]
  },
  {
   "cell_type": "code",
   "execution_count": null,
   "id": "708df784-68ab-4320-82be-db085f72aab5",
   "metadata": {},
   "outputs": [],
   "source": []
  },
  {
   "cell_type": "code",
   "execution_count": 25,
   "id": "5519fd15-c7bc-49ba-b7a4-3fbfea194182",
   "metadata": {},
   "outputs": [
    {
     "name": "stdout",
     "output_type": "stream",
     "text": [
      "Generated Password: K|AT9Z/Ew\n"
     ]
    }
   ],
   "source": [
    "import random\n",
    "import string\n",
    "\n",
    "def generate_password():\n",
    "    length = random.randint(8, 16) \n",
    "    characters = string.ascii_letters + string.digits +string.punctuation\n",
    "    password = ''.join(random.choice(characters) for _ in range(length))\n",
    "    return password\n",
    "    \n",
    "print(\"Generated Password:\", generate_password())"
   ]
  },
  {
   "cell_type": "code",
   "execution_count": null,
   "id": "532d7d99-10ad-4954-9fd0-3812f146c67b",
   "metadata": {},
   "outputs": [],
   "source": []
  },
  {
   "cell_type": "code",
   "execution_count": 71,
   "id": "23176fc2-44c7-4ec7-a28b-7463e6ed1767",
   "metadata": {},
   "outputs": [
    {
     "name": "stdin",
     "output_type": "stream",
     "text": [
      "enter a 1\n",
      "enter b 2\n",
      "enter c 3\n"
     ]
    },
    {
     "name": "stdout",
     "output_type": "stream",
     "text": [
      "6\n"
     ]
    }
   ],
   "source": [
    "a=int(input(\"enter a\"))\n",
    "b=int(input(\"enter b\"))\n",
    "c=int(input(\"enter c\"))\n",
    "if (a!=b!=c):\n",
    "    print(a+b+c)\n",
    "else:\n",
    "    if(a==b):\n",
    "        print(c)\n",
    "    elif(a==c):\n",
    "        print(b)\n",
    "    elif(b==c):\n",
    "        print(a)\n",
    "    elif(a==b==c):\n",
    "        print('0')"
   ]
  },
  {
   "cell_type": "code",
   "execution_count": null,
   "id": "18748c22-142d-4294-9045-e1e13e271e2d",
   "metadata": {},
   "outputs": [],
   "source": []
  },
  {
   "cell_type": "code",
   "execution_count": 81,
   "id": "6ab174dd-c1a8-4231-9afa-c0d390173f92",
   "metadata": {},
   "outputs": [
    {
     "name": "stdin",
     "output_type": "stream",
     "text": [
      "enter n 30\n"
     ]
    },
    {
     "name": "stdout",
     "output_type": "stream",
     "text": [
      "fizzBuzz\n"
     ]
    }
   ],
   "source": [
    "a=int(input(\"enter n\"))\n",
    "if (a%3==0 and a%5==0):\n",
    "    print(\"fizzBuzz\")\n",
    "elif (a%5==0):\n",
    "    print(\"Buzz\")\n",
    "elif (a%3==0):\n",
    "    print(\"fizz\")\n",
    "else:\n",
    "    print('invalid')"
   ]
  },
  {
   "cell_type": "code",
   "execution_count": null,
   "id": "b333614f-f90d-499d-b428-36b7b115b381",
   "metadata": {},
   "outputs": [],
   "source": []
  },
  {
   "cell_type": "code",
   "execution_count": 133,
   "id": "ef47daa8-4a15-4e84-81fc-31ad587d5416",
   "metadata": {},
   "outputs": [
    {
     "name": "stdin",
     "output_type": "stream",
     "text": [
      "Enter a string:  ahhhj\n",
      "Enter the character to count:  h\n"
     ]
    },
    {
     "name": "stdout",
     "output_type": "stream",
     "text": [
      "3\n"
     ]
    }
   ],
   "source": [
    "def count1(string, char):\n",
    "    count = 0\n",
    "    for c in string:\n",
    "        if c == char:\n",
    "            count += 1\n",
    "    return count\n",
    "\n",
    "string = input(\"Enter a string: \")\n",
    "char = input(\"Enter the character to count: \")\n",
    "total= count1(string, char)\n",
    "print(total)\n"
   ]
  },
  {
   "cell_type": "code",
   "execution_count": null,
   "id": "13021e5e-bce0-4e84-b039-e3ac91003b41",
   "metadata": {},
   "outputs": [],
   "source": []
  },
  {
   "cell_type": "code",
   "execution_count": null,
   "id": "687959d0-b134-4b40-aaac-fe9a66f5f3f3",
   "metadata": {},
   "outputs": [],
   "source": [
    "import random as rand\n",
    "a=int(input(\"enter choice 1-rock 2-paper 3-sissor\")\n",
    "if ()\n"
   ]
  },
  {
   "cell_type": "code",
   "execution_count": null,
   "id": "37aa1603-f272-4096-896c-d0a01fa9d74e",
   "metadata": {},
   "outputs": [],
   "source": []
  },
  {
   "cell_type": "code",
   "execution_count": 148,
   "id": "9a88315a-bce9-4c74-8ae2-49d6ac6dbe50",
   "metadata": {},
   "outputs": [
    {
     "name": "stdin",
     "output_type": "stream",
     "text": [
      "Enter rock, paper, or scissors:  rock\n"
     ]
    },
    {
     "name": "stdout",
     "output_type": "stream",
     "text": [
      "Computer chose: scissors\n",
      "You win!\n"
     ]
    }
   ],
   "source": [
    "import random\n",
    "def computer():\n",
    "    return random.choice([\"rock\", \"paper\", \"scissors\"])\n",
    "\n",
    "def determine_winner(user_choice, computer_choice):\n",
    "    if user_choice == computer_choice:\n",
    "        return \"tie\"\n",
    "    elif (user_choice == \"rock\" and computer_choice == \"scissors\") or \\\n",
    "         (user_choice == \"paper\" and computer_choice == \"rock\") or \\\n",
    "         (user_choice == \"scissors\" and computer_choice == \"paper\"):\n",
    "        return \"You win!\"\n",
    "    else:\n",
    "        return \"Computer wins!\"\n",
    "\n",
    "user_choice = input(\"Enter rock, paper, or scissors: \").lower()\n",
    "\n",
    "if user_choice not in [\"rock\", \"paper\", \"scissors\"]:\n",
    "    print(\"Invalid choice\")\n",
    "else:\n",
    "    computer_choice = computer()\n",
    "    print(f\"Computer chose: {computer_choice}\")\n",
    "    result = determine_winner(user_choice, computer_choice)\n",
    "    print(result)\n"
   ]
  },
  {
   "cell_type": "code",
   "execution_count": null,
   "id": "ca6eb4d1-3eea-4587-a1bd-957e6f908943",
   "metadata": {},
   "outputs": [],
   "source": []
  },
  {
   "cell_type": "code",
   "execution_count": null,
   "id": "7ec83ae7-2ccb-499c-aedb-b14816cffc98",
   "metadata": {},
   "outputs": [],
   "source": []
  }
 ],
 "metadata": {
  "kernelspec": {
   "display_name": "Python [conda env:base] *",
   "language": "python",
   "name": "conda-base-py"
  },
  "language_info": {
   "codemirror_mode": {
    "name": "ipython",
    "version": 3
   },
   "file_extension": ".py",
   "mimetype": "text/x-python",
   "name": "python",
   "nbconvert_exporter": "python",
   "pygments_lexer": "ipython3",
   "version": "3.12.7"
  }
 },
 "nbformat": 4,
 "nbformat_minor": 5
}
