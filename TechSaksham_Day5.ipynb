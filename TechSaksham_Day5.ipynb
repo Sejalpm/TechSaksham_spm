{
 "cells": [
  {
   "cell_type": "code",
   "execution_count": 1,
   "id": "f1b59865-945d-4d7f-b7f5-c6ce368e7a1b",
   "metadata": {},
   "outputs": [
    {
     "name": "stdout",
     "output_type": "stream",
     "text": [
      "Collecting mysql-connector-python\n",
      "  Downloading mysql_connector_python-9.2.0-cp312-cp312-win_amd64.whl.metadata (6.2 kB)\n",
      "Downloading mysql_connector_python-9.2.0-cp312-cp312-win_amd64.whl (16.1 MB)\n",
      "   ---------------------------------------- 0.0/16.1 MB ? eta -:--:--\n",
      "    --------------------------------------- 0.3/16.1 MB ? eta -:--:--\n",
      "   --- ------------------------------------ 1.3/16.1 MB 4.8 MB/s eta 0:00:04\n",
      "   ----- ---------------------------------- 2.1/16.1 MB 4.3 MB/s eta 0:00:04\n",
      "   ------- -------------------------------- 2.9/16.1 MB 4.5 MB/s eta 0:00:03\n",
      "   ----------- ---------------------------- 4.7/16.1 MB 5.5 MB/s eta 0:00:03\n",
      "   -------------- ------------------------- 5.8/16.1 MB 5.3 MB/s eta 0:00:02\n",
      "   ---------------- ----------------------- 6.8/16.1 MB 5.4 MB/s eta 0:00:02\n",
      "   --------------------- ------------------ 8.7/16.1 MB 5.8 MB/s eta 0:00:02\n",
      "   -------------------------- ------------- 10.5/16.1 MB 6.3 MB/s eta 0:00:01\n",
      "   ------------------------------- -------- 12.8/16.1 MB 6.7 MB/s eta 0:00:01\n",
      "   ------------------------------------- -- 14.9/16.1 MB 7.1 MB/s eta 0:00:01\n",
      "   ---------------------------------------- 16.1/16.1 MB 7.1 MB/s eta 0:00:00\n",
      "Installing collected packages: mysql-connector-python\n",
      "Successfully installed mysql-connector-python-9.2.0\n",
      "Note: you may need to restart the kernel to use updated packages.\n"
     ]
    }
   ],
   "source": [
    "pip install mysql-connector-python"
   ]
  },
  {
   "cell_type": "code",
   "execution_count": 7,
   "id": "c2764a9b-35c2-49f0-8c52-422c0b97e85a",
   "metadata": {},
   "outputs": [],
   "source": [
    "import mysql.connector\n"
   ]
  },
  {
   "cell_type": "code",
   "execution_count": 11,
   "id": "92f6c7a8-8b25-43ce-99dc-26d9bd9710cf",
   "metadata": {},
   "outputs": [
    {
     "name": "stdout",
     "output_type": "stream",
     "text": [
      "<mysql.connector.connection_cext.CMySQLConnection object at 0x000001DC4D902AE0>\n"
     ]
    }
   ],
   "source": [
    "# Importing module\n",
    "import mysql.connector\n",
    "\n",
    "# Creating connection object\n",
    "mydb = mysql.connector.connect(\n",
    "\thost = \"localhost\",\n",
    "\tuser = \"root\",\n",
    "\tpassword = \"root\"\n",
    ")\n",
    "\n",
    "# Printing the connection object\n",
    "print(mydb)"
   ]
  },
  {
   "cell_type": "code",
   "execution_count": 15,
   "id": "c7a4f156-cd1f-4aed-a4e8-c790783fcc49",
   "metadata": {},
   "outputs": [
    {
     "name": "stdout",
     "output_type": "stream",
     "text": [
      "<mysql.connector.connection_cext.CMySQLConnection object at 0x000001DC4E05B2F0>\n",
      "CMySQLCursor: (Nothing executed yet)\n"
     ]
    }
   ],
   "source": [
    "import mysql.connector  \n",
    "#Create the connection object   \n",
    "myconn = mysql.connector.connect(host = \"localhost\", user = \"root\",passwd = \"root\")  \n",
    "  \n",
    "#printing the connection object   \n",
    "print(myconn)   \n",
    "  \n",
    "#creating the cursor object  \n",
    "cur = myconn.cursor()  \n",
    "  \n",
    "print(cur)  "
   ]
  },
  {
   "cell_type": "code",
   "execution_count": 17,
   "id": "04665570-84e2-4cf6-b794-e57025503baa",
   "metadata": {},
   "outputs": [
    {
     "name": "stdout",
     "output_type": "stream",
     "text": [
      "('customer_orders',)\n",
      "('information_schema',)\n",
      "('mysql',)\n",
      "('performance_schema',)\n",
      "('sys',)\n"
     ]
    }
   ],
   "source": [
    "#creating the cursor object  \n",
    "cur = myconn.cursor()  \n",
    "  \n",
    "try:  \n",
    "    dbs = cur.execute(\"show databases\")  \n",
    "except:  \n",
    "    myconn.rollback()  \n",
    "for x in cur:  \n",
    "    print(x)  \n",
    "myconn.close()"
   ]
  },
  {
   "cell_type": "code",
   "execution_count": 34,
   "id": "36fbd86a-76d4-486a-a9bf-94eb1157ea9b",
   "metadata": {},
   "outputs": [],
   "source": [
    "import mysql.connector\n",
    "\n",
    "mydb = mysql.connector.connect(\n",
    "\thost = \"localhost\",\n",
    "\tuser = \"root\",\n",
    "\tpassword = \"root\",\n",
    "    database=\"customer_orders\"\n",
    ")\n",
    "\n",
    "mycursor = mydb.cursor()\n",
    "\n",
    "# Creating a table called 'STUDENT' in the\n",
    "# 'mynewdatabase' database\n",
    "mycursor.execute(\"CREATE SCHEMA IF NOT EXISTS CUSTOMER_ORDERS\")"
   ]
  },
  {
   "cell_type": "code",
   "execution_count": null,
   "id": "7f89886b-f911-4c7f-b872-a355a0b1f1c7",
   "metadata": {},
   "outputs": [],
   "source": []
  },
  {
   "cell_type": "code",
   "execution_count": 1,
   "id": "b695eb47-521c-4d47-8b4e-ac746b2612bd",
   "metadata": {},
   "outputs": [
    {
     "name": "stdout",
     "output_type": "stream",
     "text": [
      "1\n",
      "4\n",
      "int32\n",
      "16\n",
      "4\n"
     ]
    }
   ],
   "source": [
    "import numpy as np\n",
    "a=np.array([7,9,9,2])\n",
    "b=np.array([(7,9,9,2),(16,11,9,6)])\n",
    "print(a.ndim)\n",
    "print(a.itemsize)\n",
    "print(a.dtype)\n",
    "print(a.size*a.itemsize)\n",
    "print(a.size)"
   ]
  },
  {
   "cell_type": "code",
   "execution_count": null,
   "id": "e468f915-14e1-4989-84e7-4da65a630fe8",
   "metadata": {},
   "outputs": [],
   "source": []
  },
  {
   "cell_type": "code",
   "execution_count": 3,
   "id": "7917f14a-af44-4a75-927a-da3bd901ea9b",
   "metadata": {},
   "outputs": [
    {
     "name": "stdout",
     "output_type": "stream",
     "text": [
      "[[ 7  9  9  2]\n",
      " [16 11  9  6]]\n",
      "[[ 7  9]\n",
      " [ 9  2]\n",
      " [16 11]\n",
      " [ 9  6]]\n"
     ]
    }
   ],
   "source": [
    "b=np.array([(7,9,9,2),(16,11,9,6)])\n",
    "print(b)\n",
    "b=b.reshape(4,2)\n",
    "print(b)"
   ]
  },
  {
   "cell_type": "code",
   "execution_count": null,
   "id": "441f2992-f232-4b98-a259-dc98c49d6591",
   "metadata": {},
   "outputs": [],
   "source": []
  },
  {
   "cell_type": "code",
   "execution_count": 5,
   "id": "d19df0e7-27f5-437b-85a8-e3e5a0e55145",
   "metadata": {},
   "outputs": [
    {
     "name": "stdout",
     "output_type": "stream",
     "text": [
      "9\n",
      "[9 9]\n"
     ]
    }
   ],
   "source": [
    "b=np.array([(7,9,9,2),(11,16,9,9)])\n",
    "print(b[0,2])\n",
    "print(b[0:,2])"
   ]
  },
  {
   "cell_type": "code",
   "execution_count": 9,
   "id": "1f5f40d8-6870-4abf-83b7-f10156e41538",
   "metadata": {},
   "outputs": [
    {
     "name": "stdout",
     "output_type": "stream",
     "text": [
      "2\n",
      "89\n",
      "148\n"
     ]
    }
   ],
   "source": [
    "e=np.array([3,44,3,3,4,2,89])\n",
    "print(e.min())\n",
    "print(e.max())\n",
    "print(e.sum())"
   ]
  },
  {
   "cell_type": "code",
   "execution_count": 11,
   "id": "07eedd07-4d7b-4a42-92fc-d055ac3a7fa5",
   "metadata": {},
   "outputs": [
    {
     "name": "stdout",
     "output_type": "stream",
     "text": [
      "[23 20 18  8]\n",
      "[27 42]\n",
      "[2.64575131 3.         3.         1.41421356]\n",
      "2.8613807855648994\n",
      "[1.09663316e+03 8.10308393e+03 8.10308393e+03 7.38905610e+00]\n",
      "[1.94591015 2.19722458 2.19722458 0.69314718]\n",
      "[0.84509804 0.95424251 0.95424251 0.30103   ]\n"
     ]
    }
   ],
   "source": [
    "a=np.array([7,9,9,2])\n",
    "b=np.array([(7,9,9,2),(16,11,9,6)])\n",
    "print(b.sum(axis=0))\n",
    "print(b.sum(axis=1))\n",
    "print(np.sqrt(a))\n",
    "print(np.std(a))\n",
    "print(np.exp(a))\n",
    "print(np.log(a))\n",
    "print(np.log10(a))"
   ]
  },
  {
   "cell_type": "code",
   "execution_count": null,
   "id": "646721c0-74bc-4944-8da2-5100d7408aa7",
   "metadata": {},
   "outputs": [],
   "source": []
  },
  {
   "cell_type": "code",
   "execution_count": 13,
   "id": "5bda0569-fbdc-4d5f-b65c-bb6466a3ed9f",
   "metadata": {},
   "outputs": [
    {
     "name": "stdout",
     "output_type": "stream",
     "text": [
      "[[ 7  9  9  2]\n",
      " [16 11  9  6]\n",
      " [ 1  2  3  4]\n",
      " [ 5  6  7  8]]\n",
      "[[ 7  9  9  2  1  2  3  4]\n",
      " [16 11  9  6  5  6  7  8]]\n",
      "[ 7  9  9  2 16 11  9  6]\n"
     ]
    }
   ],
   "source": [
    "b=np.array([(7,9,9,2),(16,11,9,6)])\n",
    "f=np.array([(1,2,3,4),(5,6,7,8)])\n",
    "print(np.vstack((b,f)))\n",
    "print(np.hstack((b,f)))\n",
    "print(b.ravel())"
   ]
  },
  {
   "cell_type": "code",
   "execution_count": null,
   "id": "87ba245f-9ac7-4857-b284-914fdc1ddac5",
   "metadata": {},
   "outputs": [],
   "source": []
  },
  {
   "cell_type": "code",
   "execution_count": 17,
   "id": "de6a1e9f-85fc-48af-aa42-ef633127a156",
   "metadata": {},
   "outputs": [
    {
     "name": "stdout",
     "output_type": "stream",
     "text": [
      "[[[ 1  2  3]\n",
      "  [ 4  5  6]]\n",
      "\n",
      " [[-1 -2 -3]\n",
      "  [-4 -5 -6]]]\n"
     ]
    }
   ],
   "source": [
    "threeDarray=np.array([[[1,2,3],[4,5,6]],[[-1,-2,-3],[-4,-5,-6]]])\n",
    "print(threeDarray)"
   ]
  },
  {
   "cell_type": "code",
   "execution_count": 19,
   "id": "1f05b311-edf6-416e-a6e6-48966588ddf8",
   "metadata": {},
   "outputs": [
    {
     "name": "stdout",
     "output_type": "stream",
     "text": [
      "[-1 -2 -3]\n"
     ]
    }
   ],
   "source": [
    "print(threeDarray[1,0])"
   ]
  },
  {
   "cell_type": "code",
   "execution_count": null,
   "id": "f3402434-824e-4f9e-916d-c3360a565f3e",
   "metadata": {},
   "outputs": [],
   "source": []
  },
  {
   "cell_type": "code",
   "execution_count": 32,
   "id": "d8eeb31a-4ea7-469e-934f-518cbe3c3beb",
   "metadata": {},
   "outputs": [
    {
     "name": "stdout",
     "output_type": "stream",
     "text": [
      "[[[ 1  2  3]\n",
      "  [ 4  5  6]]\n",
      "\n",
      " [[-1 -2 -3]\n",
      "  [-4 -5 -6]]]\n"
     ]
    }
   ],
   "source": [
    "print(threeDarray)"
   ]
  },
  {
   "cell_type": "code",
   "execution_count": 34,
   "id": "bb6948e9-974c-42a7-93fe-b3d28811877b",
   "metadata": {},
   "outputs": [
    {
     "name": "stdout",
     "output_type": "stream",
     "text": [
      "[0. 0. 0. 0. 0.]\n"
     ]
    }
   ],
   "source": [
    "zeros=np.zeros(5)\n",
    "print(zeros)\n"
   ]
  },
  {
   "cell_type": "code",
   "execution_count": 46,
   "id": "455b466e-5fb8-486c-b3c7-5747849ff773",
   "metadata": {},
   "outputs": [
    {
     "name": "stdout",
     "output_type": "stream",
     "text": [
      "[[28 28  6]\n",
      " [70 73 15]\n",
      " [25 24  5]]\n"
     ]
    }
   ],
   "source": [
    "matrix1=np.array([[1,2,3],[4,5,6],[1,2,2]])\n",
    "matrix2=np.array([[3,6,1],[8,5,1],[3,4,1]])\n",
    "print(np.matmul(matrix1,matrix2))"
   ]
  },
  {
   "cell_type": "code",
   "execution_count": null,
   "id": "a4ebcc2b-5dae-4de4-9c80-7682988fdd55",
   "metadata": {},
   "outputs": [],
   "source": []
  },
  {
   "cell_type": "code",
   "execution_count": 56,
   "id": "bca7d0ee-5281-429b-834b-5a3ed44fa04b",
   "metadata": {},
   "outputs": [
    {
     "name": "stdout",
     "output_type": "stream",
     "text": [
      "-1\n",
      "32\n",
      "1.8408935028645435\n"
     ]
    }
   ],
   "source": [
    "marks=np.array([[-1,2,3],[1,2,2],[1,3,4],[4,5,6]])\n",
    "print(marks.min())\n",
    "print(marks.sum())\n",
    "print(marks.std())"
   ]
  },
  {
   "cell_type": "code",
   "execution_count": 64,
   "id": "bdd13dd6-3896-4d9f-8e4c-e2b4986cb7fe",
   "metadata": {},
   "outputs": [
    {
     "name": "stdout",
     "output_type": "stream",
     "text": [
      "[[ 4  8  4]\n",
      " [12 10  7]\n",
      " [ 4  6  3]]\n"
     ]
    }
   ],
   "source": [
    "matrix1=np.array([[1,2,3],[4,5,6],[1,2,2]])\n",
    "matrix2=np.array([[3,6,1],[8,5,1],[3,4,1]])\n",
    "print(np.add(matrix1,matrix2))"
   ]
  },
  {
   "cell_type": "code",
   "execution_count": 73,
   "id": "c47324c9-7db5-4ca7-b3e6-37cf0a86e025",
   "metadata": {},
   "outputs": [
    {
     "name": "stdout",
     "output_type": "stream",
     "text": [
      "[-1  1  1  4]\n",
      "[3 2 4 6]\n",
      "[ 4  5  8 15]\n",
      "[1.33333333 1.66666667 2.66666667 5.        ]\n",
      "[1.69967317 0.47140452 1.24721913 0.81649658]\n"
     ]
    }
   ],
   "source": [
    "marks=np.array([[-1,2,3],[1,2,2],[1,3,4],[4,5,6]]) #axis=1 means row\n",
    "print(marks.min(axis=1))\n",
    "print(marks.max(axis=1))\n",
    "print(marks.sum(axis=1))\n",
    "print(marks.mean(axis=1))\n",
    "print(marks.std(axis=1))"
   ]
  },
  {
   "cell_type": "code",
   "execution_count": 75,
   "id": "3c7a448a-dae5-4b88-8b0a-18d730bfb70f",
   "metadata": {},
   "outputs": [
    {
     "name": "stdout",
     "output_type": "stream",
     "text": [
      "[-1  2  2]\n",
      "[4 5 6]\n",
      "[ 5 12 15]\n",
      "[1.25 3.   3.75]\n",
      "[1.78535711 1.22474487 1.47901995]\n"
     ]
    }
   ],
   "source": [
    "marks=np.array([[-1,2,3],[1,2,2],[1,3,4],[4,5,6]]) #axis=0 means columnwise\n",
    "print(marks.min(axis=0))\n",
    "print(marks.max(axis=0))\n",
    "print(marks.sum(axis=0))\n",
    "print(marks.mean(axis=0))\n",
    "print(marks.std(axis=0))"
   ]
  },
  {
   "cell_type": "code",
   "execution_count": 93,
   "id": "a5c7c20f-8b09-4c38-86bd-d4760b50d200",
   "metadata": {},
   "outputs": [
    {
     "data": {
      "text/plain": [
       "array([[1, 2, 3],\n",
       "       [4, 5, 6],\n",
       "       [7, 8, 9],\n",
       "       [1, 2, 3]])"
      ]
     },
     "execution_count": 93,
     "metadata": {},
     "output_type": "execute_result"
    }
   ],
   "source": [
    "new_array=np.array([1,2,3])\n",
    "x=np.append([[1,2,3],[4,5,6]],[[7,8,9],new_array],axis=0)\n",
    "x"
   ]
  },
  {
   "cell_type": "code",
   "execution_count": null,
   "id": "cca1e37b-72a2-4f80-87e3-950f3e8479be",
   "metadata": {},
   "outputs": [],
   "source": []
  },
  {
   "cell_type": "code",
   "execution_count": 95,
   "id": "be7040c5-499f-4dbc-9b33-69e9509c7aa7",
   "metadata": {},
   "outputs": [
    {
     "data": {
      "text/plain": [
       "array([[1, 4, 7, 1],\n",
       "       [2, 5, 8, 2],\n",
       "       [3, 6, 9, 3]])"
      ]
     },
     "execution_count": 95,
     "metadata": {},
     "output_type": "execute_result"
    }
   ],
   "source": [
    "np.transpose(x) #transpose operation"
   ]
  },
  {
   "cell_type": "code",
   "execution_count": 101,
   "id": "c072e87c-c524-48b6-9408-e633a8706697",
   "metadata": {},
   "outputs": [
    {
     "data": {
      "text/plain": [
       "array([[1, 4, 7, 1],\n",
       "       [2, 5, 8, 2],\n",
       "       [3, 6, 9, 3]])"
      ]
     },
     "execution_count": 101,
     "metadata": {},
     "output_type": "execute_result"
    }
   ],
   "source": [
    "x.T #transpose"
   ]
  },
  {
   "cell_type": "code",
   "execution_count": 107,
   "id": "b54e9e0a-800a-4aac-9c50-e5dcd4f4e477",
   "metadata": {},
   "outputs": [
    {
     "name": "stdout",
     "output_type": "stream",
     "text": [
      "[0 1 2 3 4 5 6]\n"
     ]
    }
   ],
   "source": [
    "#boolean indexing\n",
    "arr=np.arange(7)\n",
    "print(arr)"
   ]
  },
  {
   "cell_type": "code",
   "execution_count": 109,
   "id": "531e2ddf-e05f-4886-ad85-5f5296386e89",
   "metadata": {},
   "outputs": [
    {
     "data": {
      "text/plain": [
       "array([False, False, False, False, False,  True,  True])"
      ]
     },
     "execution_count": 109,
     "metadata": {},
     "output_type": "execute_result"
    }
   ],
   "source": [
    "arr>4"
   ]
  },
  {
   "cell_type": "code",
   "execution_count": 111,
   "id": "f2dbc349-ed4d-4ed8-ae5b-8c9870220954",
   "metadata": {},
   "outputs": [
    {
     "data": {
      "text/plain": [
       "array([5, 6])"
      ]
     },
     "execution_count": 111,
     "metadata": {},
     "output_type": "execute_result"
    }
   ],
   "source": [
    "arr[arr>4]"
   ]
  },
  {
   "cell_type": "code",
   "execution_count": null,
   "id": "58951a95-3ea9-4bd1-9dd5-7f308a75c290",
   "metadata": {},
   "outputs": [],
   "source": []
  },
  {
   "cell_type": "code",
   "execution_count": 117,
   "id": "3cbdf7c6-4f2f-4c6c-8183-ba3175f801fc",
   "metadata": {},
   "outputs": [],
   "source": [
    "#reshaping array\n",
    "array=np.arange(12)"
   ]
  },
  {
   "cell_type": "code",
   "execution_count": 119,
   "id": "d9d3e5e8-779c-48b4-abc0-a4212f853552",
   "metadata": {},
   "outputs": [],
   "source": [
    "array.shape=(3,4)"
   ]
  },
  {
   "cell_type": "code",
   "execution_count": 121,
   "id": "c1a3f874-5b56-4a6b-837b-381e2adede37",
   "metadata": {},
   "outputs": [
    {
     "data": {
      "text/plain": [
       "array([[[ 0,  1],\n",
       "        [ 2,  3],\n",
       "        [ 4,  5]],\n",
       "\n",
       "       [[ 6,  7],\n",
       "        [ 8,  9],\n",
       "        [10, 11]]])"
      ]
     },
     "execution_count": 121,
     "metadata": {},
     "output_type": "execute_result"
    }
   ],
   "source": [
    "np.arange(12).reshape((2,3,2))"
   ]
  },
  {
   "cell_type": "code",
   "execution_count": 123,
   "id": "df4368bd-2258-4528-b9db-615e7d15bb2b",
   "metadata": {},
   "outputs": [
    {
     "data": {
      "text/plain": [
       "array([[ 0,  1,  2,  3],\n",
       "       [ 4,  5,  6,  7],\n",
       "       [ 8,  9, 10, 11]])"
      ]
     },
     "execution_count": 123,
     "metadata": {},
     "output_type": "execute_result"
    }
   ],
   "source": [
    "array"
   ]
  },
  {
   "cell_type": "code",
   "execution_count": 127,
   "id": "49635b61-c819-4d09-9334-c6449518185f",
   "metadata": {},
   "outputs": [
    {
     "data": {
      "text/plain": [
       "array([0.48415842, 0.48085699, 0.93664923, 0.85583368, 0.11614201])"
      ]
     },
     "execution_count": 127,
     "metadata": {},
     "output_type": "execute_result"
    }
   ],
   "source": [
    "#generating random values\n",
    "np.random.rand(5)"
   ]
  },
  {
   "cell_type": "code",
   "execution_count": 129,
   "id": "ca58bd5b-b091-4332-9111-4f63ce38f4d5",
   "metadata": {},
   "outputs": [
    {
     "data": {
      "text/plain": [
       "array([[17, 17, 17, 10, 12],\n",
       "       [17, 10, 15, 16, 14],\n",
       "       [16, 11, 12, 11, 17],\n",
       "       [19, 14, 16, 19, 16],\n",
       "       [19, 19, 18, 16, 14]])"
      ]
     },
     "execution_count": 129,
     "metadata": {},
     "output_type": "execute_result"
    }
   ],
   "source": [
    "np.random.randint(10,20,(5,5))"
   ]
  },
  {
   "cell_type": "code",
   "execution_count": 131,
   "id": "ac897cb6-08bc-47f2-9cc7-c4136e0a9783",
   "metadata": {},
   "outputs": [
    {
     "data": {
      "text/plain": [
       "array([[[17, 15, 19, 14, 17],\n",
       "        [12, 10, 14, 12, 10],\n",
       "        [12, 17, 15, 10, 14],\n",
       "        [17, 10, 13, 17, 17],\n",
       "        [16, 16, 17, 17, 15]],\n",
       "\n",
       "       [[11, 14, 12, 14, 13],\n",
       "        [19, 19, 15, 18, 17],\n",
       "        [14, 18, 16, 18, 13],\n",
       "        [18, 12, 12, 10, 15],\n",
       "        [10, 10, 13, 18, 10]],\n",
       "\n",
       "       [[14, 12, 11, 16, 10],\n",
       "        [17, 15, 11, 19, 14],\n",
       "        [15, 10, 12, 18, 18],\n",
       "        [10, 18, 16, 12, 17],\n",
       "        [10, 14, 19, 16, 12]],\n",
       "\n",
       "       [[11, 12, 19, 12, 12],\n",
       "        [15, 15, 11, 11, 17],\n",
       "        [15, 15, 18, 14, 12],\n",
       "        [16, 18, 11, 10, 18],\n",
       "        [17, 10, 15, 14, 12]],\n",
       "\n",
       "       [[11, 17, 16, 16, 13],\n",
       "        [19, 12, 18, 19, 14],\n",
       "        [13, 11, 14, 13, 14],\n",
       "        [17, 17, 19, 14, 18],\n",
       "        [16, 10, 15, 18, 18]]])"
      ]
     },
     "execution_count": 131,
     "metadata": {},
     "output_type": "execute_result"
    }
   ],
   "source": [
    "np.random.randint(10,20,(5,5,5))"
   ]
  },
  {
   "cell_type": "code",
   "execution_count": 133,
   "id": "f298066f-d78d-45b8-8812-8b501069cfb0",
   "metadata": {},
   "outputs": [
    {
     "data": {
      "text/plain": [
       "array([[[[14]],\n",
       "\n",
       "        [[14]]],\n",
       "\n",
       "\n",
       "       [[[14]],\n",
       "\n",
       "        [[18]]],\n",
       "\n",
       "\n",
       "       [[[10]],\n",
       "\n",
       "        [[11]]]])"
      ]
     },
     "execution_count": 133,
     "metadata": {},
     "output_type": "execute_result"
    }
   ],
   "source": [
    "np.random.randint(10,20,(3,2,1,1))"
   ]
  },
  {
   "cell_type": "code",
   "execution_count": 135,
   "id": "baccde95-3ff3-4907-9e65-61c92cc459d8",
   "metadata": {},
   "outputs": [
    {
     "data": {
      "text/plain": [
       "array([], shape=(0, 0, 0, 0), dtype=int32)"
      ]
     },
     "execution_count": 135,
     "metadata": {},
     "output_type": "execute_result"
    }
   ],
   "source": [
    "np.random.randint(10,20,(0,0,0,0))"
   ]
  },
  {
   "cell_type": "code",
   "execution_count": 141,
   "id": "3f38f9c2-2435-4458-8e05-e26e600fe71c",
   "metadata": {},
   "outputs": [
    {
     "name": "stdout",
     "output_type": "stream",
     "text": [
      "['a', 'e', 'i', 'o', 'u']\n"
     ]
    }
   ],
   "source": [
    "letters=list('aeiou')\n",
    "print(letters)"
   ]
  },
  {
   "cell_type": "code",
   "execution_count": 145,
   "id": "3d0dd743-573f-42fa-8312-cd55c8575b40",
   "metadata": {},
   "outputs": [
    {
     "data": {
      "text/plain": [
       "array(['a', 'e', 'a', 'e', 'e'], dtype='<U1')"
      ]
     },
     "execution_count": 145,
     "metadata": {},
     "output_type": "execute_result"
    }
   ],
   "source": [
    "np.random.choice(letters,5,p=[0.4,0.3,0.1,0.1,0.1])"
   ]
  },
  {
   "cell_type": "code",
   "execution_count": 149,
   "id": "96814e30-6a56-4105-bbbd-40779f969b9a",
   "metadata": {},
   "outputs": [],
   "source": [
    "array=np.random.randint(10,20,(5,5))\n",
    "np.save('array_file',array)"
   ]
  },
  {
   "cell_type": "code",
   "execution_count": 153,
   "id": "76e4f17d-f1dd-4135-9831-eaf88747a3f6",
   "metadata": {},
   "outputs": [
    {
     "name": "stdout",
     "output_type": "stream",
     "text": [
      "[[12 17 16 17 14]\n",
      " [18 17 17 12 13]\n",
      " [10 12 14 14 10]\n",
      " [14 10 19 19 18]\n",
      " [16 16 14 17 19]]\n"
     ]
    }
   ],
   "source": [
    "array2=np.load('array_file.npy')\n",
    "print(array2)"
   ]
  },
  {
   "cell_type": "code",
   "execution_count": null,
   "id": "0656b4d2-2169-4f76-a98d-9b3b1b2beaf2",
   "metadata": {},
   "outputs": [],
   "source": []
  },
  {
   "cell_type": "code",
   "execution_count": null,
   "id": "fa30d804-854c-4140-9e4e-6ec359908fb2",
   "metadata": {},
   "outputs": [],
   "source": []
  }
 ],
 "metadata": {
  "kernelspec": {
   "display_name": "Python [conda env:base] *",
   "language": "python",
   "name": "conda-base-py"
  },
  "language_info": {
   "codemirror_mode": {
    "name": "ipython",
    "version": 3
   },
   "file_extension": ".py",
   "mimetype": "text/x-python",
   "name": "python",
   "nbconvert_exporter": "python",
   "pygments_lexer": "ipython3",
   "version": "3.12.7"
  }
 },
 "nbformat": 4,
 "nbformat_minor": 5
}
